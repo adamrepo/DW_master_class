{
 "cells": [
  {
   "cell_type": "markdown",
   "metadata": {},
   "source": [
    "# Data preprocessing"
   ]
  },
  {
   "cell_type": "markdown",
   "metadata": {},
   "source": [
    "### Libraries import"
   ]
  },
  {
   "cell_type": "code",
   "execution_count": 1,
   "metadata": {},
   "outputs": [],
   "source": [
    "import pandas as pd\n",
    "import numpy as np\n",
    "np.random.seed(0)"
   ]
  },
  {
   "cell_type": "markdown",
   "metadata": {},
   "source": [
    "### Data import and connecting"
   ]
  },
  {
   "cell_type": "code",
   "execution_count": 2,
   "metadata": {},
   "outputs": [
    {
     "name": "stdout",
     "output_type": "stream",
     "text": [
      "(34180, 9) (34180, 9)\n"
     ]
    }
   ],
   "source": [
    "df_train = pd.read_hdf(\"../input/train_data.v2.h5\")\n",
    "df_test = pd.read_hdf(\"../input/test_data.v2.h5\")\n",
    "\n",
    "df = pd.concat([df_train, df_test])\n",
    "df = df.reset_index(drop=True)\n",
    "print(df.shape, df.shape)"
   ]
  },
  {
   "cell_type": "markdown",
   "metadata": {},
   "source": [
    "### How data looks like"
   ]
  },
  {
   "cell_type": "code",
   "execution_count": 3,
   "metadata": {},
   "outputs": [],
   "source": [
    "pd.set_option('display.max_columns', None)\n",
    "pd.set_option(\"max_info_columns\", 300)"
   ]
  },
  {
   "cell_type": "code",
   "execution_count": 4,
   "metadata": {},
   "outputs": [
    {
     "name": "stdout",
     "output_type": "stream",
     "text": [
      "<class 'pandas.core.frame.DataFrame'>\n",
      "RangeIndex: 34180 entries, 0 to 34179\n",
      "Data columns (total 9 columns):\n",
      " #   Column       Non-Null Count  Dtype \n",
      "---  ------       --------------  ----- \n",
      " 0   geo_block    34180 non-null  object\n",
      " 1   breadcrumbs  34180 non-null  object\n",
      " 2   owner        34180 non-null  object\n",
      " 3   params       34180 non-null  object\n",
      " 4   date         34180 non-null  object\n",
      " 5   user_block   34180 non-null  object\n",
      " 6   id           34180 non-null  int64 \n",
      " 7   price        22732 non-null  object\n",
      " 8   params_en    34180 non-null  object\n",
      "dtypes: int64(1), object(8)\n",
      "memory usage: 2.3+ MB\n"
     ]
    }
   ],
   "source": [
    "df.info()"
   ]
  },
  {
   "cell_type": "code",
   "execution_count": 5,
   "metadata": {
    "scrolled": true
   },
   "outputs": [
    {
     "data": {
      "text/html": [
       "<div>\n",
       "<style scoped>\n",
       "    .dataframe tbody tr th:only-of-type {\n",
       "        vertical-align: middle;\n",
       "    }\n",
       "\n",
       "    .dataframe tbody tr th {\n",
       "        vertical-align: top;\n",
       "    }\n",
       "\n",
       "    .dataframe thead th {\n",
       "        text-align: right;\n",
       "    }\n",
       "</style>\n",
       "<table border=\"1\" class=\"dataframe\">\n",
       "  <thead>\n",
       "    <tr style=\"text-align: right;\">\n",
       "      <th></th>\n",
       "      <th>geo_block</th>\n",
       "      <th>breadcrumbs</th>\n",
       "      <th>owner</th>\n",
       "      <th>params</th>\n",
       "      <th>date</th>\n",
       "      <th>user_block</th>\n",
       "      <th>id</th>\n",
       "      <th>price</th>\n",
       "      <th>params_en</th>\n",
       "    </tr>\n",
       "  </thead>\n",
       "  <tbody>\n",
       "    <tr>\n",
       "      <th>0</th>\n",
       "      <td>[г. Москва, Лианозово, г. Москва, Лианозово]</td>\n",
       "      <td>[Москва, Лианозово, м. Алтуфьево, МЦК Лихоборы]</td>\n",
       "      <td>[]</td>\n",
       "      <td>{'Охрана:': 'закрытая территория', 'Тип здания...</td>\n",
       "      <td>[22 апреля, 12, (+1 за сегодня), Обновлено 18 ...</td>\n",
       "      <td>[&lt;div class=\"block-user__name\"&gt;НДВ Недвижимост...</td>\n",
       "      <td>34995</td>\n",
       "      <td>5 402 084 ₽</td>\n",
       "      <td>{'Security:': 'closed area', 'Building type:':...</td>\n",
       "    </tr>\n",
       "    <tr>\n",
       "      <th>1</th>\n",
       "      <td>[г. Москва, Ховрино, г. Москва, Ховрино]</td>\n",
       "      <td>[Москва, Ховрино, м. Ховрино, МЦК Коптево]</td>\n",
       "      <td>[]</td>\n",
       "      <td>{'Лифт:': 'да', 'Тип здания:': 'Монолитное', '...</td>\n",
       "      <td>[10 мая, 2, (+1 за сегодня), Обновлено 16 мая]</td>\n",
       "      <td>[&lt;div class=\"block-user__name\"&gt;MR-Group&lt;/div&gt;,...</td>\n",
       "      <td>15030</td>\n",
       "      <td>6 827 990 ₽</td>\n",
       "      <td>{'Elevator:': 'yes', 'Building type:': 'Monoli...</td>\n",
       "    </tr>\n",
       "    <tr>\n",
       "      <th>2</th>\n",
       "      <td>[г. Москва, ул Лобачевского, г. Москва, ул Лоб...</td>\n",
       "      <td>[Москва, МЦК Кутузовская, ул. Лобачевского]</td>\n",
       "      <td>[ЖК \"Крылья\". Доп. скидка 5%!]</td>\n",
       "      <td>{'Лифт:': 'да', 'Охрана:': 'закрытая территори...</td>\n",
       "      <td>[20 марта, 12, (+2 за сегодня), Обновлено 18 мая]</td>\n",
       "      <td>[]</td>\n",
       "      <td>37811</td>\n",
       "      <td>8 680 000 ₽</td>\n",
       "      <td>{'Elevator:': 'yes', 'Security:': 'closed area...</td>\n",
       "    </tr>\n",
       "    <tr>\n",
       "      <th>3</th>\n",
       "      <td>[г. Москва, Ховрино, ул Дыбенко, г. Москва, Хо...</td>\n",
       "      <td>[Москва, Ховрино, м. Ховрино, МЦК Коптево, ул....</td>\n",
       "      <td>[]</td>\n",
       "      <td>{'Лифт:': 'да', 'Тип здания:': 'Монолитное', '...</td>\n",
       "      <td>[29 апреля, 3, (+1 за сегодня), Обновлено 13 мая]</td>\n",
       "      <td>[&lt;div class=\"block-user__name\"&gt;MR-Group&lt;/div&gt;,...</td>\n",
       "      <td>31685</td>\n",
       "      <td>8 624 435 ₽</td>\n",
       "      <td>{'Elevator:': 'yes', 'Building type:': 'Monoli...</td>\n",
       "    </tr>\n",
       "    <tr>\n",
       "      <th>4</th>\n",
       "      <td>[г. Москва, Даниловский, г. Москва, Даниловский]</td>\n",
       "      <td>[Москва, Даниловский, м. Автозаводская, МЦК Ав...</td>\n",
       "      <td>[]</td>\n",
       "      <td>{'Общая площадь:': '141.1 м²', 'Дата публикаци...</td>\n",
       "      <td>[15 декабря 2018, 30, (+1 за сегодня), Обновле...</td>\n",
       "      <td>[&lt;div class=\"block-user__name\"&gt;Наталья Вдовиче...</td>\n",
       "      <td>56215</td>\n",
       "      <td>29 500 000 ₽</td>\n",
       "      <td>{'Total area:': '141.1 м²', 'Date published:':...</td>\n",
       "    </tr>\n",
       "  </tbody>\n",
       "</table>\n",
       "</div>"
      ],
      "text/plain": [
       "                                           geo_block  \\\n",
       "0       [г. Москва, Лианозово, г. Москва, Лианозово]   \n",
       "1           [г. Москва, Ховрино, г. Москва, Ховрино]   \n",
       "2  [г. Москва, ул Лобачевского, г. Москва, ул Лоб...   \n",
       "3  [г. Москва, Ховрино, ул Дыбенко, г. Москва, Хо...   \n",
       "4   [г. Москва, Даниловский, г. Москва, Даниловский]   \n",
       "\n",
       "                                         breadcrumbs  \\\n",
       "0    [Москва, Лианозово, м. Алтуфьево, МЦК Лихоборы]   \n",
       "1         [Москва, Ховрино, м. Ховрино, МЦК Коптево]   \n",
       "2        [Москва, МЦК Кутузовская, ул. Лобачевского]   \n",
       "3  [Москва, Ховрино, м. Ховрино, МЦК Коптево, ул....   \n",
       "4  [Москва, Даниловский, м. Автозаводская, МЦК Ав...   \n",
       "\n",
       "                            owner  \\\n",
       "0                              []   \n",
       "1                              []   \n",
       "2  [ЖК \"Крылья\". Доп. скидка 5%!]   \n",
       "3                              []   \n",
       "4                              []   \n",
       "\n",
       "                                              params  \\\n",
       "0  {'Охрана:': 'закрытая территория', 'Тип здания...   \n",
       "1  {'Лифт:': 'да', 'Тип здания:': 'Монолитное', '...   \n",
       "2  {'Лифт:': 'да', 'Охрана:': 'закрытая территори...   \n",
       "3  {'Лифт:': 'да', 'Тип здания:': 'Монолитное', '...   \n",
       "4  {'Общая площадь:': '141.1 м²', 'Дата публикаци...   \n",
       "\n",
       "                                                date  \\\n",
       "0  [22 апреля, 12, (+1 за сегодня), Обновлено 18 ...   \n",
       "1     [10 мая, 2, (+1 за сегодня), Обновлено 16 мая]   \n",
       "2  [20 марта, 12, (+2 за сегодня), Обновлено 18 мая]   \n",
       "3  [29 апреля, 3, (+1 за сегодня), Обновлено 13 мая]   \n",
       "4  [15 декабря 2018, 30, (+1 за сегодня), Обновле...   \n",
       "\n",
       "                                          user_block     id         price  \\\n",
       "0  [<div class=\"block-user__name\">НДВ Недвижимост...  34995   5 402 084 ₽   \n",
       "1  [<div class=\"block-user__name\">MR-Group</div>,...  15030   6 827 990 ₽   \n",
       "2                                                 []  37811   8 680 000 ₽   \n",
       "3  [<div class=\"block-user__name\">MR-Group</div>,...  31685   8 624 435 ₽   \n",
       "4  [<div class=\"block-user__name\">Наталья Вдовиче...  56215  29 500 000 ₽   \n",
       "\n",
       "                                           params_en  \n",
       "0  {'Security:': 'closed area', 'Building type:':...  \n",
       "1  {'Elevator:': 'yes', 'Building type:': 'Monoli...  \n",
       "2  {'Elevator:': 'yes', 'Security:': 'closed area...  \n",
       "3  {'Elevator:': 'yes', 'Building type:': 'Monoli...  \n",
       "4  {'Total area:': '141.1 м²', 'Date published:':...  "
      ]
     },
     "execution_count": 5,
     "metadata": {},
     "output_type": "execute_result"
    }
   ],
   "source": [
    "df.head()"
   ]
  },
  {
   "cell_type": "markdown",
   "metadata": {},
   "source": [
    "### Params"
   ]
  },
  {
   "cell_type": "code",
   "execution_count": 6,
   "metadata": {},
   "outputs": [],
   "source": [
    "params_en = df[\"params_en\"].apply(pd.Series)\n",
    "params_en = params_en.fillna(-1)\n",
    "\n",
    "if \"Security:\" not in df:\n",
    "    df = pd.concat([df, params_en], axis=1)"
   ]
  },
  {
   "cell_type": "markdown",
   "metadata": {},
   "source": [
    "### Extracting numerical values "
   ]
  },
  {
   "cell_type": "code",
   "execution_count": 7,
   "metadata": {},
   "outputs": [
    {
     "data": {
      "text/html": [
       "<div>\n",
       "<style scoped>\n",
       "    .dataframe tbody tr th:only-of-type {\n",
       "        vertical-align: middle;\n",
       "    }\n",
       "\n",
       "    .dataframe tbody tr th {\n",
       "        vertical-align: top;\n",
       "    }\n",
       "\n",
       "    .dataframe thead th {\n",
       "        text-align: right;\n",
       "    }\n",
       "</style>\n",
       "<table border=\"1\" class=\"dataframe\">\n",
       "  <thead>\n",
       "    <tr style=\"text-align: right;\">\n",
       "      <th></th>\n",
       "      <th>Total area:</th>\n",
       "      <th>Kitchen area:</th>\n",
       "      <th>Ceiling height:</th>\n",
       "      <th>Living room:</th>\n",
       "    </tr>\n",
       "  </thead>\n",
       "  <tbody>\n",
       "    <tr>\n",
       "      <th>0</th>\n",
       "      <td>54.3 м²</td>\n",
       "      <td>-1</td>\n",
       "      <td>2.8 м</td>\n",
       "      <td>-1</td>\n",
       "    </tr>\n",
       "    <tr>\n",
       "      <th>1</th>\n",
       "      <td>38 м²</td>\n",
       "      <td>-1</td>\n",
       "      <td>3.15 м</td>\n",
       "      <td>-1</td>\n",
       "    </tr>\n",
       "    <tr>\n",
       "      <th>2</th>\n",
       "      <td>40 м²</td>\n",
       "      <td>-1</td>\n",
       "      <td>3 м</td>\n",
       "      <td>-1</td>\n",
       "    </tr>\n",
       "    <tr>\n",
       "      <th>3</th>\n",
       "      <td>43 м²</td>\n",
       "      <td>-1</td>\n",
       "      <td>3.15 м</td>\n",
       "      <td>-1</td>\n",
       "    </tr>\n",
       "    <tr>\n",
       "      <th>4</th>\n",
       "      <td>141.1 м²</td>\n",
       "      <td>-1</td>\n",
       "      <td>-1</td>\n",
       "      <td>-1</td>\n",
       "    </tr>\n",
       "  </tbody>\n",
       "</table>\n",
       "</div>"
      ],
      "text/plain": [
       "  Total area: Kitchen area: Ceiling height: Living room:\n",
       "0     54.3 м²            -1           2.8 м           -1\n",
       "1       38 м²            -1          3.15 м           -1\n",
       "2       40 м²            -1             3 м           -1\n",
       "3       43 м²            -1          3.15 м           -1\n",
       "4    141.1 м²            -1              -1           -1"
      ]
     },
     "execution_count": 7,
     "metadata": {},
     "output_type": "execute_result"
    }
   ],
   "source": [
    "df[[\"Total area:\", \"Kitchen area:\", \"Ceiling height:\", \"Living room:\"]].head()"
   ]
  },
  {
   "cell_type": "code",
   "execution_count": 8,
   "metadata": {},
   "outputs": [],
   "source": [
    "def parse_area(val):\n",
    "    if isinstance(val, int): return val\n",
    "    if isinstance(val, float): return val\n",
    "    \n",
    "    return float(val.split(\"м\")[0].replace(\" \", \"\"))"
   ]
  },
  {
   "cell_type": "code",
   "execution_count": 9,
   "metadata": {},
   "outputs": [],
   "source": [
    "df[\"area\"] = df[\"Total area:\"].map(parse_area)\n",
    "df[\"kitchen_area\"] = df[\"Kitchen area:\"].map(parse_area)\n",
    "df[\"ceiling_height\"] = df[\"Ceiling height:\"].map(parse_area)\n",
    "df[\"living_room\"] = df[\"Living room:\"].map(parse_area)"
   ]
  },
  {
   "cell_type": "code",
   "execution_count": 10,
   "metadata": {},
   "outputs": [
    {
     "data": {
      "text/html": [
       "<div>\n",
       "<style scoped>\n",
       "    .dataframe tbody tr th:only-of-type {\n",
       "        vertical-align: middle;\n",
       "    }\n",
       "\n",
       "    .dataframe tbody tr th {\n",
       "        vertical-align: top;\n",
       "    }\n",
       "\n",
       "    .dataframe thead th {\n",
       "        text-align: right;\n",
       "    }\n",
       "</style>\n",
       "<table border=\"1\" class=\"dataframe\">\n",
       "  <thead>\n",
       "    <tr style=\"text-align: right;\">\n",
       "      <th></th>\n",
       "      <th>area</th>\n",
       "      <th>kitchen_area</th>\n",
       "      <th>ceiling_height</th>\n",
       "      <th>living_room</th>\n",
       "    </tr>\n",
       "  </thead>\n",
       "  <tbody>\n",
       "    <tr>\n",
       "      <th>0</th>\n",
       "      <td>54.3</td>\n",
       "      <td>-1.0</td>\n",
       "      <td>2.80</td>\n",
       "      <td>-1.0</td>\n",
       "    </tr>\n",
       "    <tr>\n",
       "      <th>1</th>\n",
       "      <td>38.0</td>\n",
       "      <td>-1.0</td>\n",
       "      <td>3.15</td>\n",
       "      <td>-1.0</td>\n",
       "    </tr>\n",
       "    <tr>\n",
       "      <th>2</th>\n",
       "      <td>40.0</td>\n",
       "      <td>-1.0</td>\n",
       "      <td>3.00</td>\n",
       "      <td>-1.0</td>\n",
       "    </tr>\n",
       "    <tr>\n",
       "      <th>3</th>\n",
       "      <td>43.0</td>\n",
       "      <td>-1.0</td>\n",
       "      <td>3.15</td>\n",
       "      <td>-1.0</td>\n",
       "    </tr>\n",
       "    <tr>\n",
       "      <th>4</th>\n",
       "      <td>141.1</td>\n",
       "      <td>-1.0</td>\n",
       "      <td>-1.00</td>\n",
       "      <td>-1.0</td>\n",
       "    </tr>\n",
       "  </tbody>\n",
       "</table>\n",
       "</div>"
      ],
      "text/plain": [
       "    area  kitchen_area  ceiling_height  living_room\n",
       "0   54.3          -1.0            2.80         -1.0\n",
       "1   38.0          -1.0            3.15         -1.0\n",
       "2   40.0          -1.0            3.00         -1.0\n",
       "3   43.0          -1.0            3.15         -1.0\n",
       "4  141.1          -1.0           -1.00         -1.0"
      ]
     },
     "execution_count": 10,
     "metadata": {},
     "output_type": "execute_result"
    }
   ],
   "source": [
    "df[[\"area\", \"kitchen_area\", \"ceiling_height\", \"living_room\"]].head()"
   ]
  },
  {
   "cell_type": "markdown",
   "metadata": {},
   "source": [
    "### User block"
   ]
  },
  {
   "cell_type": "code",
   "execution_count": 13,
   "metadata": {},
   "outputs": [
    {
     "data": {
      "text/plain": [
       "['<div class=\"block-user__name\">НДВ Недвижимость</div>',\n",
       " '<div class=\"block-user__agency\"></div>']"
      ]
     },
     "execution_count": 13,
     "metadata": {},
     "output_type": "execute_result"
    }
   ],
   "source": [
    "df[\"user_block\"][0]"
   ]
  },
  {
   "cell_type": "code",
   "execution_count": 14,
   "metadata": {},
   "outputs": [],
   "source": [
    "df['block_user_name'] = df['user_block'].map(lambda x: x[0].split('>')[1].split('<')[0] if len(x) == 2 else -1)\n",
    "df['block_user_agency'] = df['user_block'].map(lambda x: x[1].split('>')[1].split('<')[0] if len(x) == 2 else -1)"
   ]
  },
  {
   "cell_type": "markdown",
   "metadata": {},
   "source": [
    "### Split data "
   ]
  },
  {
   "cell_type": "code",
   "execution_count": 15,
   "metadata": {},
   "outputs": [],
   "source": [
    "df_train = df[ ~df[\"price\"].isnull() ].copy()\n",
    "df_test = df[ df[\"price\"].isnull() ].copy()\n",
    "df_train = df_train.reset_index(drop=True)\n",
    "df_test = df_test.reset_index(drop=True)"
   ]
  },
  {
   "cell_type": "markdown",
   "metadata": {},
   "source": [
    "### Price to float"
   ]
  },
  {
   "cell_type": "code",
   "execution_count": 16,
   "metadata": {},
   "outputs": [
    {
     "data": {
      "text/plain": [
       "0     5 402 084 ₽\n",
       "1     6 827 990 ₽\n",
       "2     8 680 000 ₽\n",
       "3     8 624 435 ₽\n",
       "4    29 500 000 ₽\n",
       "Name: price, dtype: object"
      ]
     },
     "execution_count": 16,
     "metadata": {},
     "output_type": "execute_result"
    }
   ],
   "source": [
    "df_train['price'].head()"
   ]
  },
  {
   "cell_type": "code",
   "execution_count": 17,
   "metadata": {},
   "outputs": [],
   "source": [
    "def parse_price(val):\n",
    "    if isinstance(val, str): \n",
    "        if \"₽\" in val:\n",
    "            val = val.split('₽')[0]\n",
    "            \n",
    "        val = val.replace(' ', '')\n",
    "        return int(val) / 1000000\n",
    "    \n",
    "    return float(val)"
   ]
  },
  {
   "cell_type": "code",
   "execution_count": 18,
   "metadata": {},
   "outputs": [],
   "source": [
    "df_train['price'] = df_train['price'].map(parse_price)"
   ]
  },
  {
   "cell_type": "markdown",
   "metadata": {},
   "source": [
    "### Saving data"
   ]
  },
  {
   "cell_type": "code",
   "execution_count": 19,
   "metadata": {},
   "outputs": [],
   "source": [
    "df_train.to_csv(\"../output/post_preprocessing_train_data.csv\", index=False)\n",
    "df_test.to_csv(\"../output/post_preprocessing_test_data.csv\", index=False)"
   ]
  },
  {
   "cell_type": "code",
   "execution_count": null,
   "metadata": {},
   "outputs": [],
   "source": []
  }
 ],
 "metadata": {
  "kernelspec": {
   "display_name": "Python 3",
   "language": "python",
   "name": "python3"
  },
  "language_info": {
   "codemirror_mode": {
    "name": "ipython",
    "version": 3
   },
   "file_extension": ".py",
   "mimetype": "text/x-python",
   "name": "python",
   "nbconvert_exporter": "python",
   "pygments_lexer": "ipython3",
   "version": "3.8.5"
  }
 },
 "nbformat": 4,
 "nbformat_minor": 4
}
