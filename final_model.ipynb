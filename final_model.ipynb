{
 "cells": [
  {
   "cell_type": "markdown",
   "metadata": {},
   "source": [
    "# Final model"
   ]
  },
  {
   "cell_type": "markdown",
   "metadata": {},
   "source": [
    "### Libraries import"
   ]
  },
  {
   "cell_type": "code",
   "execution_count": 1,
   "metadata": {},
   "outputs": [],
   "source": [
    "import pandas as pd\n",
    "import numpy as np\n",
    "\n",
    "#model\n",
    "import xgboost as xgb\n",
    "from sklearn.model_selection import cross_val_score, KFold\n",
    "from sklearn.metrics import mean_absolute_error\n",
    "from tqdm import tqdm\n",
    "\n",
    "#Hyperopt\n",
    "from functools import partial\n",
    "from hyperopt import hp\n",
    "from hyperopt import hp, fmin, tpe, STATUS_OK, Trials\n",
    "\n",
    "#visualization\n",
    "from scikitplot.estimators import plot_learning_curve\n",
    "import matplotlib.pyplot as plt"
   ]
  },
  {
   "cell_type": "markdown",
   "metadata": {},
   "source": [
    "### Data import"
   ]
  },
  {
   "cell_type": "code",
   "execution_count": 2,
   "metadata": {},
   "outputs": [
    {
     "name": "stdout",
     "output_type": "stream",
     "text": [
      "(34180, 151) (34180, 151)\n"
     ]
    }
   ],
   "source": [
    "df_train = pd.read_csv(\"../output/post_fe_train_data.csv\")\n",
    "df_test = pd.read_csv(\"../output/post_fe_test_data.csv\")\n",
    "\n",
    "df = pd.concat([df_train, df_test])\n",
    "print(df.shape, df.shape)"
   ]
  },
  {
   "cell_type": "code",
   "execution_count": 3,
   "metadata": {},
   "outputs": [],
   "source": [
    "pd.set_option('display.max_columns', None)\n",
    "pd.set_option(\"max_info_columns\", 300)"
   ]
  },
  {
   "cell_type": "markdown",
   "metadata": {},
   "source": [
    "### Model check function"
   ]
  },
  {
   "cell_type": "code",
   "execution_count": 4,
   "metadata": {},
   "outputs": [],
   "source": [
    "def check_log_model(df, feats, model, cv=5, scoring=\"neg_mean_absolute_error\"):\n",
    "    df_train = df[ ~df[\"price\"].isnull() ].copy()\n",
    "\n",
    "    X = df_train[feats]\n",
    "    y = df_train[\"price\"]\n",
    "    y_log = np.log(y)\n",
    "    \n",
    "    cv = KFold(n_splits=5, shuffle=True, random_state=0)\n",
    "    scores = []\n",
    "    for train_idx, test_idx in cv.split(X):\n",
    "        X_train, X_test = X.iloc[train_idx], X.iloc[test_idx]\n",
    "        y_log_train, y_test = y_log.iloc[train_idx], y.iloc[test_idx]\n",
    "\n",
    "        #model = xgb.XGBRegressor(max_depth=8, n_estimators=700, learning_rate=0.1, random_state=0)\n",
    "        model.fit(X_train, y_log_train)\n",
    "        y_log_pred = model.predict(X_test)\n",
    "        y_pred = np.exp(y_log_pred)\n",
    "\n",
    "        score = mean_absolute_error(y_test, y_pred)\n",
    "        scores.append(score)\n",
    "        \n",
    "    return np.mean(scores), np.std(scores)"
   ]
  },
  {
   "cell_type": "markdown",
   "metadata": {},
   "source": [
    "### Let's try with all the variables "
   ]
  },
  {
   "cell_type": "code",
   "execution_count": 5,
   "metadata": {},
   "outputs": [],
   "source": [
    "black_list = ['price', 'price_log', 'id']\n",
    "feats = df.select_dtypes(include=[np.number, np.bool]).columns\n",
    "feats = [feat for feat in feats if feat not in black_list]"
   ]
  },
  {
   "cell_type": "code",
   "execution_count": 6,
   "metadata": {
    "scrolled": true
   },
   "outputs": [
    {
     "data": {
      "text/plain": [
       "(2.6075845777413322, 0.31007420115400947)"
      ]
     },
     "execution_count": 6,
     "metadata": {},
     "output_type": "execute_result"
    }
   ],
   "source": [
    "check_log_model(df, feats, xgb.XGBRegressor(max_depth=8, n_estimators=700, learning_rate=0.1, random_state=0))"
   ]
  },
  {
   "cell_type": "code",
   "execution_count": 7,
   "metadata": {},
   "outputs": [
    {
     "data": {
      "image/png": "[encoded data removed]",
      "text/plain": [
       "<Figure size 432x288 with 1 Axes>"
      ]
     },
     "metadata": {
      "needs_background": "light"
     },
     "output_type": "display_data"
    }
   ],
   "source": [
    "df_train = df[ ~df[\"price\"].isnull() ].copy()\n",
    "\n",
    "X = df_train[feats]\n",
    "y = df_train[\"price\"]\n",
    "y_log = np.log(y)\n",
    "\n",
    "plot_learning_curve(xgb.XGBRegressor(max_depth=8, n_estimators=700, learning_rate=0.1, random_state=0), X, y_log, cv=5);"
   ]
  },
  {
   "cell_type": "markdown",
   "metadata": {},
   "source": [
    "### Features selected to be checked "
   ]
  },
  {
   "cell_type": "markdown",
   "metadata": {},
   "source": [
    "We discard variables with a large number of missing values"
   ]
  },
  {
   "cell_type": "code",
   "execution_count": 18,
   "metadata": {},
   "outputs": [],
   "source": [
    "feats = [\n",
    "#    'Number of buildings:',\n",
    "    'Number of rooms:',\n",
    "#    'Number of apartments:',\n",
    "    'Year built:',\n",
    "#    'Number of entrances:',\n",
    "#    'Number of dwellings:',\n",
    "#    'The largest number of floors:',\n",
    "#    'The smallest number of floors:',\n",
    "#    'kitchen_area',\n",
    "#    'ceiling_height',\n",
    "#    'living_room',\n",
    "    'offer_views',\n",
    "    'floor',\n",
    "#    'elite_class',\n",
    "#    'security_true',\n",
    "#    'parking_true',\n",
    "#    'no_fee_true',\n",
    "#    'new_building_true',\n",
    "    'kitchen_area_log',\n",
    "    'ceiling_height_log',\n",
    "#    'living_room_log',\n",
    "#    'offer_views_log',\n",
    "#    'Security:_cat',\n",
    "#    'Building type:_cat',\n",
    "#    'Object type:_cat',\n",
    "    'Ad type:_cat',\n",
    "    'Developer:_cat',\n",
    "#    'Date published:_cat',\n",
    "#    'Parking:_cat',\n",
    "#    'Updated date:_cat',\n",
    "#    'Commission agent:_cat',\n",
    "    'Construction phase:_cat',\n",
    "#    'New building:_cat',\n",
    "    'Housing class:_cat',\n",
    "    'Elevator:_cat',\n",
    "    'The view from the window:_cat',\n",
    "    'Mortgage possible:_cat',\n",
    "    'Garbage chute:_cat',\n",
    "    'Repair:_cat',\n",
    "    'Bathroom type:_cat',\n",
    "    'Balcony type:_cat',\n",
    "#    'Kitchen furniture:_cat',\n",
    "#    'Fridge:_cat',\n",
    "#    'Internet:_cat',\n",
    "#    'Furniture:_cat',\n",
    "#    'Phone:_cat',\n",
    "#    'Free layout:_cat',\n",
    "#    'Management company:_cat',\n",
    "#    'Type of the building:_cat',\n",
    "#    'Room type:_cat',\n",
    "#    'Floor covering:_cat',\n",
    "#    'Series:_cat',\n",
    "#    'Overlap type:_cat',\n",
    "#    'It is possible to bargain:_cat',\n",
    "#    'Class:_cat',\n",
    "#    'TV:_cat',\n",
    "#    'Foundation type:_cat',\n",
    "#    'Playground:_cat',\n",
    "#    'Washing machine:_cat',\n",
    "    'block_user_name_cat',\n",
    "    'block_user_agency_cat',\n",
    "    'street_cat',\n",
    "    'subway_cat',\n",
    "    'MCC_cat',\n",
    "    'New_Moscow_cat',\n",
    "    'village_cat'\n",
    "]"
   ]
  },
  {
   "cell_type": "code",
   "execution_count": 21,
   "metadata": {},
   "outputs": [
    {
     "data": {
      "image/png": "[encoded data removed]",
      "text/plain": [
       "<Figure size 432x288 with 1 Axes>"
      ]
     },
     "metadata": {
      "needs_background": "light"
     },
     "output_type": "display_data"
    }
   ],
   "source": [
    "df_train = df[ ~df[\"price\"].isnull() ].copy()\n",
    "\n",
    "X = df_train[feats]\n",
    "y = df_train[\"price\"]\n",
    "y_log = np.log(y)\n",
    "\n",
    "plot_learning_curve(xgb.XGBRegressor(max_depth=8, n_estimators=700, learning_rate=0.1, random_state=0), X, y_log, cv=5);"
   ]
  },
  {
   "cell_type": "code",
   "execution_count": 9,
   "metadata": {},
   "outputs": [
    {
     "data": {
      "text/plain": [
       "24"
      ]
     },
     "execution_count": 9,
     "metadata": {},
     "output_type": "execute_result"
    }
   ],
   "source": [
    "len(feats)"
   ]
  },
  {
   "cell_type": "markdown",
   "metadata": {},
   "source": [
    "### Algorithm that selects features to the model "
   ]
  },
  {
   "cell_type": "markdown",
   "metadata": {},
   "source": [
    "The algorithm is checking if feature added to the model improves the result. "
   ]
  },
  {
   "cell_type": "code",
   "execution_count": 10,
   "metadata": {},
   "outputs": [],
   "source": [
    "feats_to_go = [\n",
    "    'area_log'\n",
    "]\n",
    "basic_model_result = check_log_model(df, feats_to_go, xgb.XGBRegressor(max_depth=5, n_estimators=100, random_state=0))\n",
    "basic_mean_result = basic_model_result[0]\n",
    "best_result = basic_mean_result"
   ]
  },
  {
   "cell_type": "code",
   "execution_count": 11,
   "metadata": {},
   "outputs": [
    {
     "name": "stderr",
     "output_type": "stream",
     "text": [
      "  4%|███▎                                                                               | 1/25 [01:06<26:42, 66.78s/it]"
     ]
    },
    {
     "name": "stdout",
     "output_type": "stream",
     "text": [
      "['area_log', 'MCC_cat']\n",
      "4.40567224629253\n"
     ]
    },
    {
     "name": "stderr",
     "output_type": "stream",
     "text": [
      "\r",
      "  8%|██████▋                                                                            | 2/25 [02:14<25:42, 67.07s/it]"
     ]
    },
    {
     "name": "stdout",
     "output_type": "stream",
     "text": [
      "['area_log', 'MCC_cat', 'Developer:_cat']\n",
      "3.501406300873614\n"
     ]
    },
    {
     "name": "stderr",
     "output_type": "stream",
     "text": [
      "\r",
      " 12%|█████████▉                                                                         | 3/25 [03:18<24:12, 66.04s/it]"
     ]
    },
    {
     "name": "stdout",
     "output_type": "stream",
     "text": [
      "['area_log', 'MCC_cat', 'Developer:_cat', 'Housing class:_cat']\n",
      "3.1499629646619036\n"
     ]
    },
    {
     "name": "stderr",
     "output_type": "stream",
     "text": [
      "\r",
      " 16%|█████████████▎                                                                     | 4/25 [04:18<22:28, 64.20s/it]"
     ]
    },
    {
     "name": "stdout",
     "output_type": "stream",
     "text": [
      "['area_log', 'MCC_cat', 'Developer:_cat', 'Housing class:_cat', 'floor']\n",
      "3.0352426800147185\n"
     ]
    },
    {
     "name": "stderr",
     "output_type": "stream",
     "text": [
      "\r",
      " 20%|████████████████▌                                                                  | 5/25 [05:16<20:48, 62.45s/it]"
     ]
    },
    {
     "name": "stdout",
     "output_type": "stream",
     "text": [
      "['area_log', 'MCC_cat', 'Developer:_cat', 'Housing class:_cat', 'floor', 'New_Moscow_cat']\n",
      "2.958022760718439\n"
     ]
    },
    {
     "name": "stderr",
     "output_type": "stream",
     "text": [
      "\r",
      " 24%|███████████████████▉                                                               | 6/25 [06:13<19:13, 60.70s/it]"
     ]
    },
    {
     "name": "stdout",
     "output_type": "stream",
     "text": [
      "['area_log', 'MCC_cat', 'Developer:_cat', 'Housing class:_cat', 'floor', 'New_Moscow_cat', 'Construction phase:_cat']\n",
      "2.9252612761518844\n"
     ]
    },
    {
     "name": "stderr",
     "output_type": "stream",
     "text": [
      "\r",
      " 28%|███████████████████████▏                                                           | 7/25 [07:08<17:45, 59.17s/it]"
     ]
    },
    {
     "name": "stdout",
     "output_type": "stream",
     "text": [
      "['area_log', 'MCC_cat', 'Developer:_cat', 'Housing class:_cat', 'floor', 'New_Moscow_cat', 'Construction phase:_cat', 'Year built:']\n",
      "2.8550208458756696\n"
     ]
    },
    {
     "name": "stderr",
     "output_type": "stream",
     "text": [
      "\r",
      " 32%|██████████████████████████▌                                                        | 8/25 [08:02<16:18, 57.54s/it]"
     ]
    },
    {
     "name": "stdout",
     "output_type": "stream",
     "text": [
      "['area_log', 'MCC_cat', 'Developer:_cat', 'Housing class:_cat', 'floor', 'New_Moscow_cat', 'Construction phase:_cat', 'Year built:', 'street_cat']\n",
      "2.8327844944066736\n"
     ]
    },
    {
     "name": "stderr",
     "output_type": "stream",
     "text": [
      "\r",
      " 36%|█████████████████████████████▉                                                     | 9/25 [08:52<14:45, 55.36s/it]"
     ]
    },
    {
     "name": "stdout",
     "output_type": "stream",
     "text": [
      "['area_log', 'MCC_cat', 'Developer:_cat', 'Housing class:_cat', 'floor', 'New_Moscow_cat', 'Construction phase:_cat', 'Year built:', 'street_cat', 'Garbage chute:_cat']\n",
      "2.8136078560453726\n"
     ]
    },
    {
     "name": "stderr",
     "output_type": "stream",
     "text": [
      " 36%|█████████████████████████████▉                                                     | 9/25 [09:41<17:14, 64.66s/it]\n"
     ]
    }
   ],
   "source": [
    "for i in tqdm(range(25)):\n",
    "    mean_result = []\n",
    "    for i in range(len(feats)):\n",
    "        feats_to_go.append(feats[i])\n",
    "        model_result = check_log_model(df, feats_to_go, xgb.XGBRegressor(max_depth=5, n_estimators=100, random_state=0))\n",
    "        mean_result.append(model_result[0])\n",
    "        del feats_to_go[-1]\n",
    "    if min(mean_result) > best_result:\n",
    "        break\n",
    "    else: best_result = min(mean_result)\n",
    "    best_value_index = np.argmin(mean_result)\n",
    "    feats_to_go.append(feats[best_value_index]) \n",
    "    del feats[best_value_index]\n",
    "    print(feats_to_go)\n",
    "    print(best_result)"
   ]
  },
  {
   "cell_type": "code",
   "execution_count": 12,
   "metadata": {},
   "outputs": [
    {
     "data": {
      "text/plain": [
       "['area_log',\n",
       " 'MCC_cat',\n",
       " 'Developer:_cat',\n",
       " 'Housing class:_cat',\n",
       " 'floor',\n",
       " 'New_Moscow_cat',\n",
       " 'Construction phase:_cat',\n",
       " 'Year built:',\n",
       " 'street_cat',\n",
       " 'Garbage chute:_cat']"
      ]
     },
     "execution_count": 12,
     "metadata": {},
     "output_type": "execute_result"
    }
   ],
   "source": [
    "feats_to_go"
   ]
  },
  {
   "cell_type": "markdown",
   "metadata": {},
   "source": [
    "### HyperOpt"
   ]
  },
  {
   "cell_type": "code",
   "execution_count": 13,
   "metadata": {},
   "outputs": [
    {
     "name": "stdout",
     "output_type": "stream",
     "text": [
      "{'max_depth': 8, 'colsample_bytree': 0.7193852484626175, 'learning_rate': 0.09368891585162065, 'subsample': 0.9159026703152395, 'seed': 2021, 'min_child_weight': 140, 'reg_alpha': 1.638662169358977, 'reg_lambda': 0.749721659817257, 'n_estimators': 900, 'objective': 'reg:squarederror'}\n",
      "score:                                                                                                                 \n",
      "2.9914352240272697                                                                                                     \n",
      "0.46265197296249966                                                                                                    \n",
      "{'max_depth': 6, 'colsample_bytree': 0.7664641997291808, 'learning_rate': 0.08452052380698423, 'subsample': 0.9479689602427461, 'seed': 2021, 'min_child_weight': 150, 'reg_alpha': 1.6339885260626732, 'reg_lambda': 0.706355065756025, 'n_estimators': 900, 'objective': 'reg:squarederror'}\n",
      "score:                                                                                                                 \n",
      "3.0893972000394307                                                                                                     \n",
      "0.4590713429512769                                                                                                     \n",
      "{'max_depth': 17, 'colsample_bytree': 0.3863105115782767, 'learning_rate': 0.19312783923138413, 'subsample': 0.6239195672187051, 'seed': 2021, 'min_child_weight': 20, 'reg_alpha': 2.5661779482169207, 'reg_lambda': 0.9373183510232679, 'n_estimators': 800, 'objective': 'reg:squarederror'}\n",
      "score:                                                                                                                 \n",
      "2.906354286011973                                                                                                      \n",
      "0.39704633239953707                                                                                                    \n",
      "{'max_depth': 18, 'colsample_bytree': 0.24717084042643553, 'learning_rate': 0.1702336222919979, 'subsample': 0.6575646170961553, 'seed': 2021, 'min_child_weight': 10, 'reg_alpha': 2.6855235424743116, 'reg_lambda': 0.9992885624081058, 'n_estimators': 500, 'objective': 'reg:squarederror'}\n",
      "score:                                                                                                                 \n",
      "2.9680672889780118                                                                                                     \n",
      "0.3991976751206404                                                                                                     \n",
      "{'max_depth': 20, 'colsample_bytree': 0.2387849827344845, 'learning_rate': 0.19667144400114236, 'subsample': 0.6030401863902344, 'seed': 2021, 'min_child_weight': 10, 'reg_alpha': 2.682730729664456, 'reg_lambda': 0.9777183181747767, 'n_estimators': 1300, 'objective': 'reg:squarederror'}\n",
      "score:                                                                                                                 \n",
      "2.9328280636745427                                                                                                     \n",
      "0.4132765787563304                                                                                                     \n",
      "{'max_depth': 14, 'colsample_bytree': 0.4380069210675843, 'learning_rate': 0.14621380490209152, 'subsample': 0.7508997274846598, 'seed': 2021, 'min_child_weight': 70, 'reg_alpha': 1.0456133977021458, 'reg_lambda': 0.8731036018393666, 'n_estimators': 550, 'objective': 'reg:squarederror'}\n",
      "score:                                                                                                                 \n",
      "2.8768905694776707                                                                                                     \n",
      "0.4443344865544714                                                                                                     \n",
      "{'max_depth': 12, 'colsample_bytree': 0.9989295861870764, 'learning_rate': 0.14027240038153518, 'subsample': 0.7731080593810657, 'seed': 2021, 'min_child_weight': 80, 'reg_alpha': 1.0337027240554109, 'reg_lambda': 0.8397988311672636, 'n_estimators': 500, 'objective': 'reg:squarederror'}\n",
      "score:                                                                                                                 \n",
      "2.9105429706508184                                                                                                     \n",
      "0.4302798155866296                                                                                                     \n",
      "{'max_depth': 13, 'colsample_bytree': 0.48944046620567616, 'learning_rate': 0.05409062355470905, 'subsample': 0.7731366275276412, 'seed': 2021, 'min_child_weight': 80, 'reg_alpha': 1.0034618168565526, 'reg_lambda': 0.8678472325076191, 'n_estimators': 650, 'objective': 'reg:squarederror'}\n",
      "score:                                                                                                                 \n",
      "2.977196009557392                                                                                                      \n",
      "0.44053573092378406                                                                                                    \n",
      "{'max_depth': 13, 'colsample_bytree': 0.9627040998448843, 'learning_rate': 0.13993278879821774, 'subsample': 0.8578425121490455, 'seed': 2021, 'min_child_weight': 190, 'reg_alpha': 1.278112837470395, 'reg_lambda': 0.8075307168347468, 'n_estimators': 1200, 'objective': 'reg:squarederror'}\n",
      "score:                                                                                                                 \n",
      "3.028415222656455                                                                                                      \n",
      "0.46260170267373385                                                                                                    \n",
      "{'max_depth': 10, 'colsample_bytree': 0.6001205577709644, 'learning_rate': 0.10735452793142673, 'subsample': 0.7065763854817926, 'seed': 2021, 'min_child_weight': 50, 'reg_alpha': 1.269649343006024, 'reg_lambda': 0.9111489386766085, 'n_estimators': 1100, 'objective': 'reg:squarederror'}\n",
      "score:                                                                                                                 \n",
      "2.8000014103389326                                                                                                     \n",
      "0.4301090354743178                                                                                                     \n",
      "{'max_depth': 9, 'colsample_bytree': 0.7901581028873687, 'learning_rate': 0.05080449579408136, 'subsample': 0.692829229846637, 'seed': 2021, 'min_child_weight': 40, 'reg_alpha': 2.100994356747915, 'reg_lambda': 0.9279467391712677, 'n_estimators': 1150, 'objective': 'reg:squarederror'}\n",
      "score:                                                                                                                 \n",
      "2.826935274477235                                                                                                      \n",
      "0.414927706306885                                                                                                      \n",
      "{'max_depth': 5, 'colsample_bytree': 0.6238303152619848, 'learning_rate': 0.10255314505974085, 'subsample': 0.861902386656771, 'seed': 2021, 'min_child_weight': 120, 'reg_alpha': 1.2969605589490716, 'reg_lambda': 0.7737425824577655, 'n_estimators': 1050, 'objective': 'reg:squarederror'}\n",
      "score:                                                                                                                 \n",
      "3.0708006149558034                                                                                                     \n",
      "0.459740607974484                                                                                                      \n",
      "{'max_depth': 10, 'colsample_bytree': 0.8934881015280431, 'learning_rate': 0.07289813461456401, 'subsample': 0.9982738665974761, 'seed': 2021, 'min_child_weight': 190, 'reg_alpha': 1.9635544888279257, 'reg_lambda': 0.9253825009613542, 'n_estimators': 1050, 'objective': 'reg:squarederror'}\n",
      "score:                                                                                                                 \n"
     ]
    },
    {
     "name": "stdout",
     "output_type": "stream",
     "text": [
      "3.028737528898594                                                                                                      \n",
      "0.46588352716876824                                                                                                    \n",
      "{'max_depth': 16, 'colsample_bytree': 0.579039588408167, 'learning_rate': 0.11188164723139915, 'subsample': 0.7159413721518133, 'seed': 2021, 'min_child_weight': 50, 'reg_alpha': 1.2927108341881612, 'reg_lambda': 0.7088405700586201, 'n_estimators': 700, 'objective': 'reg:squarederror'}\n",
      "score:                                                                                                                 \n",
      "2.809200346918491                                                                                                      \n",
      "0.43236756869911297                                                                                                    \n",
      "{'max_depth': 7, 'colsample_bytree': 0.35879728709576836, 'learning_rate': 0.17541076043843962, 'subsample': 0.8330505154997341, 'seed': 2021, 'min_child_weight': 160, 'reg_alpha': 1.9480380331548912, 'reg_lambda': 0.9775236485081524, 'n_estimators': 1300, 'objective': 'reg:squarederror'}\n",
      "score:                                                                                                                 \n",
      "3.027888855356105                                                                                                      \n",
      "0.45723659372246894                                                                                                    \n",
      "{'max_depth': 20, 'colsample_bytree': 0.86705388739499, 'learning_rate': 0.06611300112021234, 'subsample': 0.6643623928267657, 'seed': 2021, 'min_child_weight': 110, 'reg_alpha': 1.4434944267816963, 'reg_lambda': 0.8942025834110859, 'n_estimators': 1000, 'objective': 'reg:squarederror'}\n",
      "score:                                                                                                                 \n",
      "2.983122885906627                                                                                                      \n",
      "0.46959593179857506                                                                                                    \n",
      "{'max_depth': 11, 'colsample_bytree': 0.6439999311720498, 'learning_rate': 0.11182751917021372, 'subsample': 0.9977233588149996, 'seed': 2021, 'min_child_weight': 40, 'reg_alpha': 1.1575677287529593, 'reg_lambda': 0.8211186630875994, 'n_estimators': 1200, 'objective': 'reg:squarederror'}\n",
      "score:                                                                                                                 \n",
      "2.7996765113617563                                                                                                     \n",
      "0.4355501377935822                                                                                                     \n",
      "{'max_depth': 11, 'colsample_bytree': 0.6332843460042454, 'learning_rate': 0.12232384400824177, 'subsample': 0.9887906108003449, 'seed': 2021, 'min_child_weight': 40, 'reg_alpha': 1.1100822776108576, 'reg_lambda': 0.8231321096534677, 'n_estimators': 1200, 'objective': 'reg:squarederror'}\n",
      "score:                                                                                                                 \n",
      "2.821650571893116                                                                                                      \n",
      "0.440676993891212                                                                                                      \n",
      "{'max_depth': 10, 'colsample_bytree': 0.5356967825172824, 'learning_rate': 0.11954995200042755, 'subsample': 0.7297095420891294, 'seed': 2021, 'min_child_weight': 70, 'reg_alpha': 1.1671732719842987, 'reg_lambda': 0.7804184308939333, 'n_estimators': 1150, 'objective': 'reg:squarederror'}\n",
      "score:                                                                                                                 \n",
      "2.8400103021686722                                                                                                     \n",
      "0.4168678645756095                                                                                                     \n",
      "{'max_depth': 15, 'colsample_bytree': 0.6843566338854381, 'learning_rate': 0.09956815414330751, 'subsample': 0.8125857034777014, 'seed': 2021, 'min_child_weight': 30, 'reg_alpha': 1.4652863406874275, 'reg_lambda': 0.8932230722721648, 'n_estimators': 1000, 'objective': 'reg:squarederror'}\n",
      "score:                                                                                                                 \n",
      "2.765048023279248                                                                                                      \n",
      "0.4244916568993356                                                                                                     \n",
      "{'max_depth': 15, 'colsample_bytree': 0.6997372369596679, 'learning_rate': 0.08406167939992834, 'subsample': 0.9168978824350837, 'seed': 2021, 'min_child_weight': 30, 'reg_alpha': 1.4754093787519222, 'reg_lambda': 0.8629373276441895, 'n_estimators': 950, 'objective': 'reg:squarederror'}\n",
      "score:                                                                                                                 \n",
      "2.7699775098184176                                                                                                     \n",
      "0.43442076665162843                                                                                                    \n",
      "{'max_depth': 15, 'colsample_bytree': 0.7230437441309047, 'learning_rate': 0.08434986725392081, 'subsample': 0.9135157429524494, 'seed': 2021, 'min_child_weight': 20, 'reg_alpha': 1.4825444237711705, 'reg_lambda': 0.8646300241625301, 'n_estimators': 800, 'objective': 'reg:squarederror'}\n",
      "score:                                                                                                                 \n",
      "2.716957379382993                                                                                                      \n",
      "0.38028924990977003                                                                                                    \n",
      "{'max_depth': 18, 'colsample_bytree': 0.8509105106227568, 'learning_rate': 0.06672086365091141, 'subsample': 0.8188356723151258, 'seed': 2021, 'min_child_weight': 10, 'reg_alpha': 1.4764607819990456, 'reg_lambda': 0.9567836334840676, 'n_estimators': 750, 'objective': 'reg:squarederror'}\n",
      "score:                                                                                                                 \n",
      "2.6997839316720116                                                                                                     \n",
      "0.3973044204228158                                                                                                     \n",
      "{'max_depth': 18, 'colsample_bytree': 0.8477076635991461, 'learning_rate': 0.06323873883283895, 'subsample': 0.8892810856050488, 'seed': 2021, 'min_child_weight': 10, 'reg_alpha': 1.7739244140593402, 'reg_lambda': 0.9514821996892701, 'n_estimators': 800, 'objective': 'reg:squarederror'}\n",
      "score:                                                                                                                 \n",
      "2.7081700177319386                                                                                                     \n",
      "0.3947484436366313                                                                                                     \n",
      "{'max_depth': 19, 'colsample_bytree': 0.8597047430152175, 'learning_rate': 0.06296263010595057, 'subsample': 0.8883590456131489, 'seed': 2021, 'min_child_weight': 90, 'reg_alpha': 1.8160536746473552, 'reg_lambda': 0.9566653854660403, 'n_estimators': 800, 'objective': 'reg:squarederror'}\n",
      "score:                                                                                                                 \n",
      "2.88454648716794                                                                                                       \n",
      "0.43138536851248976                                                                                                    \n",
      "{'max_depth': 18, 'colsample_bytree': 0.9431093062747492, 'learning_rate': 0.05111370091384633, 'subsample': 0.9501413882104935, 'seed': 2021, 'min_child_weight': 60, 'reg_alpha': 2.2119487654130627, 'reg_lambda': 0.9981275112068888, 'n_estimators': 700, 'objective': 'reg:squarederror'}\n"
     ]
    },
    {
     "name": "stdout",
     "output_type": "stream",
     "text": [
      "score:                                                                                                                 \n",
      "2.8716773195871577                                                                                                     \n",
      "0.42290156244663557                                                                                                    \n",
      "{'max_depth': 17, 'colsample_bytree': 0.7933473435539142, 'learning_rate': 0.07681478448489344, 'subsample': 0.8111620326520321, 'seed': 2021, 'min_child_weight': 10, 'reg_alpha': 1.7695835057717386, 'reg_lambda': 0.9632081180466946, 'n_estimators': 600, 'objective': 'reg:squarederror'}\n",
      "score:                                                                                                                 \n",
      "2.6980580018270786                                                                                                     \n",
      "0.3737161247205634                                                                                                     \n",
      "{'max_depth': 17, 'colsample_bytree': 0.8061962324372601, 'learning_rate': 0.07540553302572944, 'subsample': 0.80294225624028, 'seed': 2021, 'min_child_weight': 130, 'reg_alpha': 2.3589276482056585, 'reg_lambda': 0.9703839853015794, 'n_estimators': 600, 'objective': 'reg:squarederror'}\n",
      "score:                                                                                                                 \n",
      "3.057378263998717                                                                                                      \n",
      "0.47506571363540356                                                                                                    \n",
      "{'max_depth': 19, 'colsample_bytree': 0.9239595831595494, 'learning_rate': 0.09229720329385718, 'subsample': 0.8349677894247463, 'seed': 2021, 'min_child_weight': 20, 'reg_alpha': 1.6404315499519113, 'reg_lambda': 0.9968122293564164, 'n_estimators': 700, 'objective': 'reg:squarederror'}\n",
      "score:                                                                                                                 \n",
      "2.7745971338131525                                                                                                     \n",
      "0.38560793087513007                                                                                                    \n",
      "{'max_depth': 16, 'colsample_bytree': 0.7437491194870671, 'learning_rate': 0.09240197193088077, 'subsample': 0.7654416222064087, 'seed': 2021, 'min_child_weight': 170, 'reg_alpha': 1.7571034485678458, 'reg_lambda': 0.907227878301269, 'n_estimators': 600, 'objective': 'reg:squarederror'}\n",
      "score:                                                                                                                 \n",
      "3.1462952179885426                                                                                                     \n",
      "0.4667908629121213                                                                                                     \n",
      "{'max_depth': 19, 'colsample_bytree': 0.8175073893331549, 'learning_rate': 0.07338672286131917, 'subsample': 0.7915878927721852, 'seed': 2021, 'min_child_weight': 100, 'reg_alpha': 1.5695113437383723, 'reg_lambda': 0.9510785103375601, 'n_estimators': 900, 'objective': 'reg:squarederror'}\n",
      "score:                                                                                                                 \n",
      "2.9041176755636053                                                                                                     \n",
      "0.4587086294227791                                                                                                     \n",
      "{'max_depth': 17, 'colsample_bytree': 0.9832999713986991, 'learning_rate': 0.055765508746970845, 'subsample': 0.7405765719855791, 'seed': 2021, 'min_child_weight': 60, 'reg_alpha': 1.3712301606204629, 'reg_lambda': 0.9821078112892089, 'n_estimators': 750, 'objective': 'reg:squarederror'}\n",
      "score:                                                                                                                 \n",
      "2.876859164468138                                                                                                      \n",
      "0.42020024179140103                                                                                                    \n",
      "{'max_depth': 16, 'colsample_bytree': 0.7915336558699791, 'learning_rate': 0.15371280364628448, 'subsample': 0.9606902043068342, 'seed': 2021, 'min_child_weight': 20, 'reg_alpha': 1.9013044756621866, 'reg_lambda': 0.7379655978363268, 'n_estimators': 850, 'objective': 'reg:squarederror'}\n",
      "score:                                                                                                                 \n",
      "2.7585007776764194                                                                                                     \n",
      "0.4005240001208309                                                                                                     \n",
      "{'max_depth': 14, 'colsample_bytree': 0.743711857424988, 'learning_rate': 0.08145618701874491, 'subsample': 0.8316719423978314, 'seed': 2021, 'min_child_weight': 140, 'reg_alpha': 1.587797806242601, 'reg_lambda': 0.9425063601080501, 'n_estimators': 550, 'objective': 'reg:squarederror'}\n",
      "score:                                                                                                                 \n",
      "3.03910686392284                                                                                                       \n",
      "0.47266739587594137                                                                                                    \n",
      "{'max_depth': 20, 'colsample_bytree': 0.9178846120842196, 'learning_rate': 0.13355848398659714, 'subsample': 0.8654060605573315, 'seed': 2021, 'min_child_weight': 10, 'reg_alpha': 2.082245811093745, 'reg_lambda': 0.884961244509441, 'n_estimators': 650, 'objective': 'reg:squarederror'}\n",
      "score:                                                                                                                 \n",
      "2.7383433959109715                                                                                                     \n",
      "0.379090145883385                                                                                                      \n",
      "{'max_depth': 18, 'colsample_bytree': 0.3121628333858889, 'learning_rate': 0.09574182715402921, 'subsample': 0.6722659673412978, 'seed': 2021, 'min_child_weight': 30, 'reg_alpha': 2.357464242904255, 'reg_lambda': 0.9182135818130855, 'n_estimators': 850, 'objective': 'reg:squarederror'}\n",
      "score:                                                                                                                 \n",
      "2.869098482633284                                                                                                      \n",
      "0.4274896875802785                                                                                                     \n",
      "{'max_depth': 14, 'colsample_bytree': 0.6713353156823634, 'learning_rate': 0.1638015842299014, 'subsample': 0.6394979386373114, 'seed': 2021, 'min_child_weight': 100, 'reg_alpha': 1.3667065969796133, 'reg_lambda': 0.9987346414881211, 'n_estimators': 500, 'objective': 'reg:squarederror'}\n",
      "score:                                                                                                                 \n",
      "2.9610257794042876                                                                                                     \n",
      "0.46764952037364393                                                                                                    \n",
      "{'max_depth': 19, 'colsample_bytree': 0.5363993242886909, 'learning_rate': 0.059558166685580574, 'subsample': 0.7928783377073373, 'seed': 2021, 'min_child_weight': 80, 'reg_alpha': 1.683510802430188, 'reg_lambda': 0.9642213577923006, 'n_estimators': 550, 'objective': 'reg:squarederror'}\n",
      "score:                                                                                                                 \n",
      "2.9667369682218654                                                                                                     \n",
      "0.45030602997465163                                                                                                    \n"
     ]
    },
    {
     "name": "stdout",
     "output_type": "stream",
     "text": [
      "{'max_depth': 12, 'colsample_bytree': 0.46979991604329596, 'learning_rate': 0.18820836718555464, 'subsample': 0.7601139678929473, 'seed': 2021, 'min_child_weight': 60, 'reg_alpha': 2.537963095823225, 'reg_lambda': 0.8488886017019042, 'n_estimators': 750, 'objective': 'reg:squarederror'}\n",
      "score:                                                                                                                 \n",
      "2.897051038765378                                                                                                      \n",
      "0.42958932405986194                                                                                                    \n",
      "{'max_depth': 17, 'colsample_bytree': 0.7688923016249414, 'learning_rate': 0.07164954264945379, 'subsample': 0.920656123548604, 'seed': 2021, 'min_child_weight': 10, 'reg_alpha': 1.5644564376402101, 'reg_lambda': 0.9315391798720303, 'n_estimators': 650, 'objective': 'reg:squarederror'}\n",
      "score:                                                                                                                 \n",
      "2.684731379792227                                                                                                      \n",
      "0.4033766929848665                                                                                                     \n",
      "{'max_depth': 13, 'colsample_bytree': 0.7654027397972613, 'learning_rate': 0.13068597477971186, 'subsample': 0.9704270201547512, 'seed': 2021, 'min_child_weight': 50, 'reg_alpha': 1.697404607575123, 'reg_lambda': 0.9350296580384045, 'n_estimators': 600, 'objective': 'reg:squarederror'}\n",
      "score:                                                                                                                 \n",
      "2.8107968577781874                                                                                                     \n",
      "0.4310925887725677                                                                                                     \n",
      "{'max_depth': 17, 'colsample_bytree': 0.429306017968871, 'learning_rate': 0.08912121194131967, 'subsample': 0.9233379492572068, 'seed': 2021, 'min_child_weight': 180, 'reg_alpha': 1.841615688584668, 'reg_lambda': 0.984238666972134, 'n_estimators': 650, 'objective': 'reg:squarederror'}\n",
      "score:                                                                                                                 \n",
      "3.1202892043928165                                                                                                     \n",
      "0.47458296052001614                                                                                                    \n",
      "{'max_depth': 16, 'colsample_bytree': 0.5404359227506981, 'learning_rate': 0.07608954623378188, 'subsample': 0.9339569317212417, 'seed': 2021, 'min_child_weight': 70, 'reg_alpha': 2.0960640822895082, 'reg_lambda': 0.9014726497140946, 'n_estimators': 500, 'objective': 'reg:squarederror'}\n",
      "score:                                                                                                                 \n",
      "2.9009051081949706                                                                                                     \n",
      "0.4363981106198427                                                                                                     \n",
      "{'max_depth': 20, 'colsample_bytree': 0.584343032513417, 'learning_rate': 0.10482045869718125, 'subsample': 0.8864105409103008, 'seed': 2021, 'min_child_weight': 150, 'reg_alpha': 1.5616424556480941, 'reg_lambda': 0.8804876649328195, 'n_estimators': 550, 'objective': 'reg:squarederror'}\n",
      "score:                                                                                                                 \n",
      "3.034478441349417                                                                                                      \n",
      "0.48068950255893894                                                                                                    \n",
      "{'max_depth': 14, 'colsample_bytree': 0.9849295001405272, 'learning_rate': 0.11569507181943647, 'subsample': 0.6015851743622613, 'seed': 2021, 'min_child_weight': 40, 'reg_alpha': 2.0241009437733757, 'reg_lambda': 0.9209720333183413, 'n_estimators': 850, 'objective': 'reg:squarederror'}\n",
      "score:                                                                                                                 \n",
      "2.8416045883214767                                                                                                     \n",
      "0.4259407092031525                                                                                                     \n",
      "{'max_depth': 8, 'colsample_bytree': 0.6669529256782378, 'learning_rate': 0.12794907190949772, 'subsample': 0.8541581415154778, 'seed': 2021, 'min_child_weight': 110, 'reg_alpha': 2.2111483992123757, 'reg_lambda': 0.9412791873113632, 'n_estimators': 650, 'objective': 'reg:squarederror'}\n",
      "score:                                                                                                                 \n",
      "2.9749236302196187                                                                                                     \n",
      "0.4616088569900674                                                                                                     \n",
      "{'max_depth': 13, 'colsample_bytree': 0.9058868922905938, 'learning_rate': 0.15042594054797442, 'subsample': 0.9748586934582275, 'seed': 2021, 'min_child_weight': 90, 'reg_alpha': 1.381520766341574, 'reg_lambda': 0.8316865301944965, 'n_estimators': 900, 'objective': 'reg:squarederror'}\n",
      "score:                                                                                                                 \n",
      "2.8730790806439273                                                                                                     \n",
      "0.4376724259856345                                                                                                     \n",
      "{'max_depth': 12, 'colsample_bytree': 0.8868105077421724, 'learning_rate': 0.13741747538947702, 'subsample': 0.6970641314874277, 'seed': 2021, 'min_child_weight': 30, 'reg_alpha': 1.2255412438223736, 'reg_lambda': 0.8554311753749178, 'n_estimators': 600, 'objective': 'reg:squarederror'}\n",
      "score:                                                                                                                 \n",
      "2.7807620179399244                                                                                                     \n",
      "0.4156557318283545                                                                                                     \n",
      "{'max_depth': 15, 'colsample_bytree': 0.8301527892627727, 'learning_rate': 0.09976254208337558, 'subsample': 0.7822203318746258, 'seed': 2021, 'min_child_weight': 200, 'reg_alpha': 1.0488809773814725, 'reg_lambda': 0.8014804408064007, 'n_estimators': 550, 'objective': 'reg:squarederror'}\n",
      "score:                                                                                                                 \n",
      "3.1911583383290285                                                                                                     \n",
      "0.4671488580896782                                                                                                     \n",
      "{'max_depth': 17, 'colsample_bytree': 0.7617973107574344, 'learning_rate': 0.06950327396059383, 'subsample': 0.8981197373372899, 'seed': 2021, 'min_child_weight': 50, 'reg_alpha': 2.5025775402478234, 'reg_lambda': 0.9329206028399352, 'n_estimators': 700, 'objective': 'reg:squarederror'}\n",
      "score:                                                                                                                 \n",
      "2.829413198817634                                                                                                      \n",
      "0.42832711523033673                                                                                                    \n",
      "100%|█████████████████████████████████████████████████| 50/50 [41:58<00:00, 50.37s/trial, best loss: 2.684731379792227]\n",
      "The best params:  {'x_colsample_bytree': 0.7688923016249414, 'x_learning_rate': 0.07164954264945379, 'x_max_depth': 17.0, 'x_min_child_weight': 10.0, 'x_n_estimators': 650.0, 'x_reg_alpha': 1.5644564376402101, 'x_reg_lambda': 0.9315391798720303, 'x_seed': 9200.0, 'x_shift': 17.0, 'x_subsample': 0.920656123548604}\n"
     ]
    }
   ],
   "source": [
    "def objective(space):\n",
    "    \n",
    "    xgb_params = {\n",
    "        'max_depth': int(space['max_depth']),\n",
    "        'colsample_bytree': space['colsample_bytree'],\n",
    "        'learning_rate': space['learning_rate'],\n",
    "        'subsample': space['subsample'],\n",
    "        'seed': 2021, #int(space['seed']),\n",
    "        'min_child_weight': int(space['min_child_weight']),\n",
    "        'reg_alpha': space['reg_alpha'],\n",
    "        'reg_lambda': space['reg_lambda'],\n",
    "        'n_estimators': int(space['n_estimators']),\n",
    "        'objective': 'reg:squarederror',\n",
    "    }\n",
    "    \n",
    "    print(xgb_params)\n",
    "    \n",
    "    mean_score, std_score = check_log_model(df, feats_to_go, xgb.XGBRegressor(**xgb_params))\n",
    "    \n",
    "    print(\"score:\", mean_score, std_score)\n",
    "    \n",
    "    return{'loss':mean_score, 'status': STATUS_OK }\n",
    "    \n",
    "space ={\n",
    "    'max_depth': hp.quniform ('x_max_depth', 5, 20, 1),\n",
    "    'colsample_bytree': hp.uniform ('x_colsample_bytree', 0.2, 1.),\n",
    "    'learning_rate': hp.uniform ('x_learning_rate', 0.05, 0.2),\n",
    "    'subsample': hp.uniform ('x_subsample', 0.6, 1.),\n",
    "    'seed': hp.quniform ('x_seed', 0, 10000, 50),\n",
    "    'min_child_weight': hp.quniform ('x_min_child_weight', 10, 200, 10),\n",
    "    'reg_alpha': hp.loguniform ('x_reg_alpha', 0., 1.),\n",
    "    'reg_lambda': hp.uniform ('x_reg_lambda', 0.7, 1.),\n",
    "    'n_estimators': hp.quniform ('x_n_estimators', 500, 1300, 50),\n",
    "    'shift': hp.quniform ('x_shift', 1, 200, 1),\n",
    "}\n",
    "\n",
    "\n",
    "trials = Trials()\n",
    "best_params = fmin(fn=objective,\n",
    "            space=space,\n",
    "            algo=partial(tpe.suggest, n_startup_jobs=1),\n",
    "            max_evals=50,\n",
    "            trials=trials)\n",
    "\n",
    "print(\"The best params: \", best_params)"
   ]
  },
  {
   "cell_type": "code",
   "execution_count": 14,
   "metadata": {
    "scrolled": true
   },
   "outputs": [
    {
     "data": {
      "text/plain": [
       "{'x_colsample_bytree': 0.7688923016249414,\n",
       " 'x_learning_rate': 0.07164954264945379,\n",
       " 'x_max_depth': 17.0,\n",
       " 'x_min_child_weight': 10.0,\n",
       " 'x_n_estimators': 650.0,\n",
       " 'x_reg_alpha': 1.5644564376402101,\n",
       " 'x_reg_lambda': 0.9315391798720303,\n",
       " 'x_seed': 9200.0,\n",
       " 'x_shift': 17.0,\n",
       " 'x_subsample': 0.920656123548604}"
      ]
     },
     "execution_count": 14,
     "metadata": {},
     "output_type": "execute_result"
    }
   ],
   "source": [
    "best_params"
   ]
  },
  {
   "cell_type": "markdown",
   "metadata": {},
   "source": [
    "### Final model learning curve"
   ]
  },
  {
   "cell_type": "code",
   "execution_count": 15,
   "metadata": {
    "scrolled": true
   },
   "outputs": [
    {
     "name": "stdout",
     "output_type": "stream",
     "text": [
      "[12:56:26] WARNING: C:/Users/Administrator/workspace/xgboost-win64_release_1.4.0/src/learner.cc:573: \n",
      "Parameters: { \"x_colsample_bytree\", \"x_learning_rate\", \"x_max_depth\", \"x_min_child_weight\", \"x_n_estimators\", \"x_reg_alpha\", \"x_reg_lambda\", \"x_seed\", \"x_shift\", \"x_subsample\" } might not be used.\n",
      "\n",
      "  This may not be accurate due to some parameters are only used in language bindings but\n",
      "  passed down to XGBoost core.  Or some parameters are not used but slip through this\n",
      "  verification. Please open an issue if you find above cases.\n",
      "\n",
      "\n",
      "[12:56:27] WARNING: C:/Users/Administrator/workspace/xgboost-win64_release_1.4.0/src/learner.cc:573: \n",
      "Parameters: { \"x_colsample_bytree\", \"x_learning_rate\", \"x_max_depth\", \"x_min_child_weight\", \"x_n_estimators\", \"x_reg_alpha\", \"x_reg_lambda\", \"x_seed\", \"x_shift\", \"x_subsample\" } might not be used.\n",
      "\n",
      "  This may not be accurate due to some parameters are only used in language bindings but\n",
      "  passed down to XGBoost core.  Or some parameters are not used but slip through this\n",
      "  verification. Please open an issue if you find above cases.\n",
      "\n",
      "\n",
      "[12:56:27] WARNING: C:/Users/Administrator/workspace/xgboost-win64_release_1.4.0/src/learner.cc:573: \n",
      "Parameters: { \"x_colsample_bytree\", \"x_learning_rate\", \"x_max_depth\", \"x_min_child_weight\", \"x_n_estimators\", \"x_reg_alpha\", \"x_reg_lambda\", \"x_seed\", \"x_shift\", \"x_subsample\" } might not be used.\n",
      "\n",
      "  This may not be accurate due to some parameters are only used in language bindings but\n",
      "  passed down to XGBoost core.  Or some parameters are not used but slip through this\n",
      "  verification. Please open an issue if you find above cases.\n",
      "\n",
      "\n",
      "[12:56:28] WARNING: C:/Users/Administrator/workspace/xgboost-win64_release_1.4.0/src/learner.cc:573: \n",
      "Parameters: { \"x_colsample_bytree\", \"x_learning_rate\", \"x_max_depth\", \"x_min_child_weight\", \"x_n_estimators\", \"x_reg_alpha\", \"x_reg_lambda\", \"x_seed\", \"x_shift\", \"x_subsample\" } might not be used.\n",
      "\n",
      "  This may not be accurate due to some parameters are only used in language bindings but\n",
      "  passed down to XGBoost core.  Or some parameters are not used but slip through this\n",
      "  verification. Please open an issue if you find above cases.\n",
      "\n",
      "\n",
      "[12:56:28] WARNING: C:/Users/Administrator/workspace/xgboost-win64_release_1.4.0/src/learner.cc:573: \n",
      "Parameters: { \"x_colsample_bytree\", \"x_learning_rate\", \"x_max_depth\", \"x_min_child_weight\", \"x_n_estimators\", \"x_reg_alpha\", \"x_reg_lambda\", \"x_seed\", \"x_shift\", \"x_subsample\" } might not be used.\n",
      "\n",
      "  This may not be accurate due to some parameters are only used in language bindings but\n",
      "  passed down to XGBoost core.  Or some parameters are not used but slip through this\n",
      "  verification. Please open an issue if you find above cases.\n",
      "\n",
      "\n",
      "[12:56:29] WARNING: C:/Users/Administrator/workspace/xgboost-win64_release_1.4.0/src/learner.cc:573: \n",
      "Parameters: { \"x_colsample_bytree\", \"x_learning_rate\", \"x_max_depth\", \"x_min_child_weight\", \"x_n_estimators\", \"x_reg_alpha\", \"x_reg_lambda\", \"x_seed\", \"x_shift\", \"x_subsample\" } might not be used.\n",
      "\n",
      "  This may not be accurate due to some parameters are only used in language bindings but\n",
      "  passed down to XGBoost core.  Or some parameters are not used but slip through this\n",
      "  verification. Please open an issue if you find above cases.\n",
      "\n",
      "\n",
      "[12:56:30] WARNING: C:/Users/Administrator/workspace/xgboost-win64_release_1.4.0/src/learner.cc:573: \n",
      "Parameters: { \"x_colsample_bytree\", \"x_learning_rate\", \"x_max_depth\", \"x_min_child_weight\", \"x_n_estimators\", \"x_reg_alpha\", \"x_reg_lambda\", \"x_seed\", \"x_shift\", \"x_subsample\" } might not be used.\n",
      "\n",
      "  This may not be accurate due to some parameters are only used in language bindings but\n",
      "  passed down to XGBoost core.  Or some parameters are not used but slip through this\n",
      "  verification. Please open an issue if you find above cases.\n",
      "\n",
      "\n",
      "[12:56:30] WARNING: C:/Users/Administrator/workspace/xgboost-win64_release_1.4.0/src/learner.cc:573: \n",
      "Parameters: { \"x_colsample_bytree\", \"x_learning_rate\", \"x_max_depth\", \"x_min_child_weight\", \"x_n_estimators\", \"x_reg_alpha\", \"x_reg_lambda\", \"x_seed\", \"x_shift\", \"x_subsample\" } might not be used.\n",
      "\n",
      "  This may not be accurate due to some parameters are only used in language bindings but\n",
      "  passed down to XGBoost core.  Or some parameters are not used but slip through this\n",
      "  verification. Please open an issue if you find above cases.\n",
      "\n",
      "\n",
      "[12:56:30] WARNING: C:/Users/Administrator/workspace/xgboost-win64_release_1.4.0/src/learner.cc:573: \n",
      "Parameters: { \"x_colsample_bytree\", \"x_learning_rate\", \"x_max_depth\", \"x_min_child_weight\", \"x_n_estimators\", \"x_reg_alpha\", \"x_reg_lambda\", \"x_seed\", \"x_shift\", \"x_subsample\" } might not be used.\n",
      "\n",
      "  This may not be accurate due to some parameters are only used in language bindings but\n",
      "  passed down to XGBoost core.  Or some parameters are not used but slip through this\n",
      "  verification. Please open an issue if you find above cases.\n",
      "\n",
      "\n",
      "[12:56:31] WARNING: C:/Users/Administrator/workspace/xgboost-win64_release_1.4.0/src/learner.cc:573: \n",
      "Parameters: { \"x_colsample_bytree\", \"x_learning_rate\", \"x_max_depth\", \"x_min_child_weight\", \"x_n_estimators\", \"x_reg_alpha\", \"x_reg_lambda\", \"x_seed\", \"x_shift\", \"x_subsample\" } might not be used.\n",
      "\n",
      "  This may not be accurate due to some parameters are only used in language bindings but\n",
      "  passed down to XGBoost core.  Or some parameters are not used but slip through this\n",
      "  verification. Please open an issue if you find above cases.\n",
      "\n",
      "\n",
      "[12:56:32] WARNING: C:/Users/Administrator/workspace/xgboost-win64_release_1.4.0/src/learner.cc:573: \n",
      "Parameters: { \"x_colsample_bytree\", \"x_learning_rate\", \"x_max_depth\", \"x_min_child_weight\", \"x_n_estimators\", \"x_reg_alpha\", \"x_reg_lambda\", \"x_seed\", \"x_shift\", \"x_subsample\" } might not be used.\n",
      "\n",
      "  This may not be accurate due to some parameters are only used in language bindings but\n",
      "  passed down to XGBoost core.  Or some parameters are not used but slip through this\n",
      "  verification. Please open an issue if you find above cases.\n",
      "\n",
      "\n",
      "[12:56:32] WARNING: C:/Users/Administrator/workspace/xgboost-win64_release_1.4.0/src/learner.cc:573: \n",
      "Parameters: { \"x_colsample_bytree\", \"x_learning_rate\", \"x_max_depth\", \"x_min_child_weight\", \"x_n_estimators\", \"x_reg_alpha\", \"x_reg_lambda\", \"x_seed\", \"x_shift\", \"x_subsample\" } might not be used.\n",
      "\n",
      "  This may not be accurate due to some parameters are only used in language bindings but\n",
      "  passed down to XGBoost core.  Or some parameters are not used but slip through this\n",
      "  verification. Please open an issue if you find above cases.\n",
      "\n",
      "\n",
      "[12:56:33] WARNING: C:/Users/Administrator/workspace/xgboost-win64_release_1.4.0/src/learner.cc:573: \n",
      "Parameters: { \"x_colsample_bytree\", \"x_learning_rate\", \"x_max_depth\", \"x_min_child_weight\", \"x_n_estimators\", \"x_reg_alpha\", \"x_reg_lambda\", \"x_seed\", \"x_shift\", \"x_subsample\" } might not be used.\n",
      "\n",
      "  This may not be accurate due to some parameters are only used in language bindings but\n",
      "  passed down to XGBoost core.  Or some parameters are not used but slip through this\n",
      "  verification. Please open an issue if you find above cases.\n",
      "\n",
      "\n",
      "[12:56:33] WARNING: C:/Users/Administrator/workspace/xgboost-win64_release_1.4.0/src/learner.cc:573: \n",
      "Parameters: { \"x_colsample_bytree\", \"x_learning_rate\", \"x_max_depth\", \"x_min_child_weight\", \"x_n_estimators\", \"x_reg_alpha\", \"x_reg_lambda\", \"x_seed\", \"x_shift\", \"x_subsample\" } might not be used.\n",
      "\n",
      "  This may not be accurate due to some parameters are only used in language bindings but\n",
      "  passed down to XGBoost core.  Or some parameters are not used but slip through this\n",
      "  verification. Please open an issue if you find above cases.\n",
      "\n",
      "\n",
      "[12:56:34] WARNING: C:/Users/Administrator/workspace/xgboost-win64_release_1.4.0/src/learner.cc:573: \n",
      "Parameters: { \"x_colsample_bytree\", \"x_learning_rate\", \"x_max_depth\", \"x_min_child_weight\", \"x_n_estimators\", \"x_reg_alpha\", \"x_reg_lambda\", \"x_seed\", \"x_shift\", \"x_subsample\" } might not be used.\n",
      "\n",
      "  This may not be accurate due to some parameters are only used in language bindings but\n",
      "  passed down to XGBoost core.  Or some parameters are not used but slip through this\n",
      "  verification. Please open an issue if you find above cases.\n",
      "\n",
      "\n",
      "[12:56:35] WARNING: C:/Users/Administrator/workspace/xgboost-win64_release_1.4.0/src/learner.cc:573: \n",
      "Parameters: { \"x_colsample_bytree\", \"x_learning_rate\", \"x_max_depth\", \"x_min_child_weight\", \"x_n_estimators\", \"x_reg_alpha\", \"x_reg_lambda\", \"x_seed\", \"x_shift\", \"x_subsample\" } might not be used.\n",
      "\n",
      "  This may not be accurate due to some parameters are only used in language bindings but\n",
      "  passed down to XGBoost core.  Or some parameters are not used but slip through this\n",
      "  verification. Please open an issue if you find above cases.\n",
      "\n",
      "\n"
     ]
    },
    {
     "name": "stdout",
     "output_type": "stream",
     "text": [
      "[12:56:35] WARNING: C:/Users/Administrator/workspace/xgboost-win64_release_1.4.0/src/learner.cc:573: \n",
      "Parameters: { \"x_colsample_bytree\", \"x_learning_rate\", \"x_max_depth\", \"x_min_child_weight\", \"x_n_estimators\", \"x_reg_alpha\", \"x_reg_lambda\", \"x_seed\", \"x_shift\", \"x_subsample\" } might not be used.\n",
      "\n",
      "  This may not be accurate due to some parameters are only used in language bindings but\n",
      "  passed down to XGBoost core.  Or some parameters are not used but slip through this\n",
      "  verification. Please open an issue if you find above cases.\n",
      "\n",
      "\n",
      "[12:56:35] WARNING: C:/Users/Administrator/workspace/xgboost-win64_release_1.4.0/src/learner.cc:573: \n",
      "Parameters: { \"x_colsample_bytree\", \"x_learning_rate\", \"x_max_depth\", \"x_min_child_weight\", \"x_n_estimators\", \"x_reg_alpha\", \"x_reg_lambda\", \"x_seed\", \"x_shift\", \"x_subsample\" } might not be used.\n",
      "\n",
      "  This may not be accurate due to some parameters are only used in language bindings but\n",
      "  passed down to XGBoost core.  Or some parameters are not used but slip through this\n",
      "  verification. Please open an issue if you find above cases.\n",
      "\n",
      "\n",
      "[12:56:36] WARNING: C:/Users/Administrator/workspace/xgboost-win64_release_1.4.0/src/learner.cc:573: \n",
      "Parameters: { \"x_colsample_bytree\", \"x_learning_rate\", \"x_max_depth\", \"x_min_child_weight\", \"x_n_estimators\", \"x_reg_alpha\", \"x_reg_lambda\", \"x_seed\", \"x_shift\", \"x_subsample\" } might not be used.\n",
      "\n",
      "  This may not be accurate due to some parameters are only used in language bindings but\n",
      "  passed down to XGBoost core.  Or some parameters are not used but slip through this\n",
      "  verification. Please open an issue if you find above cases.\n",
      "\n",
      "\n",
      "[12:56:37] WARNING: C:/Users/Administrator/workspace/xgboost-win64_release_1.4.0/src/learner.cc:573: \n",
      "Parameters: { \"x_colsample_bytree\", \"x_learning_rate\", \"x_max_depth\", \"x_min_child_weight\", \"x_n_estimators\", \"x_reg_alpha\", \"x_reg_lambda\", \"x_seed\", \"x_shift\", \"x_subsample\" } might not be used.\n",
      "\n",
      "  This may not be accurate due to some parameters are only used in language bindings but\n",
      "  passed down to XGBoost core.  Or some parameters are not used but slip through this\n",
      "  verification. Please open an issue if you find above cases.\n",
      "\n",
      "\n",
      "[12:56:37] WARNING: C:/Users/Administrator/workspace/xgboost-win64_release_1.4.0/src/learner.cc:573: \n",
      "Parameters: { \"x_colsample_bytree\", \"x_learning_rate\", \"x_max_depth\", \"x_min_child_weight\", \"x_n_estimators\", \"x_reg_alpha\", \"x_reg_lambda\", \"x_seed\", \"x_shift\", \"x_subsample\" } might not be used.\n",
      "\n",
      "  This may not be accurate due to some parameters are only used in language bindings but\n",
      "  passed down to XGBoost core.  Or some parameters are not used but slip through this\n",
      "  verification. Please open an issue if you find above cases.\n",
      "\n",
      "\n",
      "[12:56:38] WARNING: C:/Users/Administrator/workspace/xgboost-win64_release_1.4.0/src/learner.cc:573: \n",
      "Parameters: { \"x_colsample_bytree\", \"x_learning_rate\", \"x_max_depth\", \"x_min_child_weight\", \"x_n_estimators\", \"x_reg_alpha\", \"x_reg_lambda\", \"x_seed\", \"x_shift\", \"x_subsample\" } might not be used.\n",
      "\n",
      "  This may not be accurate due to some parameters are only used in language bindings but\n",
      "  passed down to XGBoost core.  Or some parameters are not used but slip through this\n",
      "  verification. Please open an issue if you find above cases.\n",
      "\n",
      "\n",
      "[12:56:38] WARNING: C:/Users/Administrator/workspace/xgboost-win64_release_1.4.0/src/learner.cc:573: \n",
      "Parameters: { \"x_colsample_bytree\", \"x_learning_rate\", \"x_max_depth\", \"x_min_child_weight\", \"x_n_estimators\", \"x_reg_alpha\", \"x_reg_lambda\", \"x_seed\", \"x_shift\", \"x_subsample\" } might not be used.\n",
      "\n",
      "  This may not be accurate due to some parameters are only used in language bindings but\n",
      "  passed down to XGBoost core.  Or some parameters are not used but slip through this\n",
      "  verification. Please open an issue if you find above cases.\n",
      "\n",
      "\n",
      "[12:56:39] WARNING: C:/Users/Administrator/workspace/xgboost-win64_release_1.4.0/src/learner.cc:573: \n",
      "Parameters: { \"x_colsample_bytree\", \"x_learning_rate\", \"x_max_depth\", \"x_min_child_weight\", \"x_n_estimators\", \"x_reg_alpha\", \"x_reg_lambda\", \"x_seed\", \"x_shift\", \"x_subsample\" } might not be used.\n",
      "\n",
      "  This may not be accurate due to some parameters are only used in language bindings but\n",
      "  passed down to XGBoost core.  Or some parameters are not used but slip through this\n",
      "  verification. Please open an issue if you find above cases.\n",
      "\n",
      "\n",
      "[12:56:39] WARNING: C:/Users/Administrator/workspace/xgboost-win64_release_1.4.0/src/learner.cc:573: \n",
      "Parameters: { \"x_colsample_bytree\", \"x_learning_rate\", \"x_max_depth\", \"x_min_child_weight\", \"x_n_estimators\", \"x_reg_alpha\", \"x_reg_lambda\", \"x_seed\", \"x_shift\", \"x_subsample\" } might not be used.\n",
      "\n",
      "  This may not be accurate due to some parameters are only used in language bindings but\n",
      "  passed down to XGBoost core.  Or some parameters are not used but slip through this\n",
      "  verification. Please open an issue if you find above cases.\n",
      "\n",
      "\n"
     ]
    },
    {
     "data": {
      "image/png": "[encoded data removed]",
      "text/plain": [
       "<Figure size 432x288 with 1 Axes>"
      ]
     },
     "metadata": {
      "needs_background": "light"
     },
     "output_type": "display_data"
    }
   ],
   "source": [
    "df_train = df[ ~df[\"price\"].isnull() ].copy()\n",
    "\n",
    "X = df_train[feats_to_go]\n",
    "y = df_train[\"price\"]\n",
    "y_log = np.log(y)\n",
    "\n",
    "plot_learning_curve(xgb.XGBRegressor(**best_params), X, y_log, cv=5);"
   ]
  },
  {
   "cell_type": "code",
   "execution_count": 16,
   "metadata": {},
   "outputs": [
    {
     "name": "stdout",
     "output_type": "stream",
     "text": [
      "[12:56:40] WARNING: C:/Users/Administrator/workspace/xgboost-win64_release_1.4.0/src/learner.cc:573: \n",
      "Parameters: { \"x_colsample_bytree\", \"x_learning_rate\", \"x_max_depth\", \"x_min_child_weight\", \"x_n_estimators\", \"x_reg_alpha\", \"x_reg_lambda\", \"x_seed\", \"x_shift\", \"x_subsample\" } might not be used.\n",
      "\n",
      "  This may not be accurate due to some parameters are only used in language bindings but\n",
      "  passed down to XGBoost core.  Or some parameters are not used but slip through this\n",
      "  verification. Please open an issue if you find above cases.\n",
      "\n",
      "\n",
      "[12:56:41] WARNING: C:/Users/Administrator/workspace/xgboost-win64_release_1.4.0/src/learner.cc:573: \n",
      "Parameters: { \"x_colsample_bytree\", \"x_learning_rate\", \"x_max_depth\", \"x_min_child_weight\", \"x_n_estimators\", \"x_reg_alpha\", \"x_reg_lambda\", \"x_seed\", \"x_shift\", \"x_subsample\" } might not be used.\n",
      "\n",
      "  This may not be accurate due to some parameters are only used in language bindings but\n",
      "  passed down to XGBoost core.  Or some parameters are not used but slip through this\n",
      "  verification. Please open an issue if you find above cases.\n",
      "\n",
      "\n",
      "[12:56:42] WARNING: C:/Users/Administrator/workspace/xgboost-win64_release_1.4.0/src/learner.cc:573: \n",
      "Parameters: { \"x_colsample_bytree\", \"x_learning_rate\", \"x_max_depth\", \"x_min_child_weight\", \"x_n_estimators\", \"x_reg_alpha\", \"x_reg_lambda\", \"x_seed\", \"x_shift\", \"x_subsample\" } might not be used.\n",
      "\n",
      "  This may not be accurate due to some parameters are only used in language bindings but\n",
      "  passed down to XGBoost core.  Or some parameters are not used but slip through this\n",
      "  verification. Please open an issue if you find above cases.\n",
      "\n",
      "\n",
      "[12:56:43] WARNING: C:/Users/Administrator/workspace/xgboost-win64_release_1.4.0/src/learner.cc:573: \n",
      "Parameters: { \"x_colsample_bytree\", \"x_learning_rate\", \"x_max_depth\", \"x_min_child_weight\", \"x_n_estimators\", \"x_reg_alpha\", \"x_reg_lambda\", \"x_seed\", \"x_shift\", \"x_subsample\" } might not be used.\n",
      "\n",
      "  This may not be accurate due to some parameters are only used in language bindings but\n",
      "  passed down to XGBoost core.  Or some parameters are not used but slip through this\n",
      "  verification. Please open an issue if you find above cases.\n",
      "\n",
      "\n",
      "[12:56:44] WARNING: C:/Users/Administrator/workspace/xgboost-win64_release_1.4.0/src/learner.cc:573: \n",
      "Parameters: { \"x_colsample_bytree\", \"x_learning_rate\", \"x_max_depth\", \"x_min_child_weight\", \"x_n_estimators\", \"x_reg_alpha\", \"x_reg_lambda\", \"x_seed\", \"x_shift\", \"x_subsample\" } might not be used.\n",
      "\n",
      "  This may not be accurate due to some parameters are only used in language bindings but\n",
      "  passed down to XGBoost core.  Or some parameters are not used but slip through this\n",
      "  verification. Please open an issue if you find above cases.\n",
      "\n",
      "\n"
     ]
    },
    {
     "data": {
      "text/plain": [
       "(2.7343959896407446, 0.36591098978789643)"
      ]
     },
     "execution_count": 16,
     "metadata": {},
     "output_type": "execute_result"
    }
   ],
   "source": [
    "check_log_model(df, feats_to_go, xgb.XGBRegressor(**best_params))"
   ]
  },
  {
   "cell_type": "markdown",
   "metadata": {},
   "source": [
    "### Kaggle submit"
   ]
  },
  {
   "cell_type": "code",
   "execution_count": 17,
   "metadata": {},
   "outputs": [],
   "source": [
    "df_train = df[ ~df[\"price\"].isnull() ].copy()\n",
    "df_test = df[ df[\"price\"].isnull() ].copy()\n",
    "\n",
    "X_train = df_train[feats_to_go]\n",
    "y_train = df_train[\"price\"]\n",
    "y_log_train = np.log(y_train)\n",
    "\n",
    "X_test = df_test[feats_to_go]\n",
    "\n",
    "model = xgb.XGBRegressor(max_depth=8, n_estimators=700, learning_rate=0.1, random_state=0)\n",
    "model.fit(X_train, y_log_train)\n",
    "y_log_pred = model.predict(X_test)\n",
    "y_pred = np.exp(y_log_pred)\n",
    "\n",
    "\n",
    "df_test[\"price\"] = y_pred\n",
    "df_test[ [\"id\", \"price\"] ].to_csv(\"../output/xgb_submit.csv\", index=False)"
   ]
  },
  {
   "cell_type": "code",
   "execution_count": null,
   "metadata": {},
   "outputs": [],
   "source": []
  }
 ],
 "metadata": {
  "kernelspec": {
   "display_name": "Python 3",
   "language": "python",
   "name": "python3"
  },
  "language_info": {
   "codemirror_mode": {
    "name": "ipython",
    "version": 3
   },
   "file_extension": ".py",
   "mimetype": "text/x-python",
   "name": "python",
   "nbconvert_exporter": "python",
   "pygments_lexer": "ipython3",
   "version": "3.8.5"
  }
 },
 "nbformat": 4,
 "nbformat_minor": 4
}
