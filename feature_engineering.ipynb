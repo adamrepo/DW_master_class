{
 "cells": [
  {
   "cell_type": "markdown",
   "metadata": {},
   "source": [
    "# Feature engineering"
   ]
  },
  {
   "cell_type": "markdown",
   "metadata": {},
   "source": [
    "### Libraries import"
   ]
  },
  {
   "cell_type": "code",
   "execution_count": 1,
   "metadata": {},
   "outputs": [],
   "source": [
    "import pandas as pd\n",
    "import numpy as np\n",
    "import math\n",
    "\n",
    "import matplotlib.pyplot as plt"
   ]
  },
  {
   "cell_type": "markdown",
   "metadata": {},
   "source": [
    "### Data import"
   ]
  },
  {
   "cell_type": "code",
   "execution_count": 2,
   "metadata": {},
   "outputs": [],
   "source": [
    "df_train = pd.read_csv(\"../output/post_preprocessing_train_data.csv\")\n",
    "df_test = pd.read_csv(\"../output/post_preprocessing_test_data.csv\")"
   ]
  },
  {
   "cell_type": "markdown",
   "metadata": {},
   "source": [
    "### Price"
   ]
  },
  {
   "cell_type": "code",
   "execution_count": 3,
   "metadata": {},
   "outputs": [
    {
     "data": {
      "text/plain": [
       "<AxesSubplot:>"
      ]
     },
     "execution_count": 3,
     "metadata": {},
     "output_type": "execute_result"
    },
    {
     "data": {
      "image/png": "[encoded data removed]",
      "text/plain": [
       "<Figure size 432x288 with 1 Axes>"
      ]
     },
     "metadata": {
      "needs_background": "light"
     },
     "output_type": "display_data"
    }
   ],
   "source": [
    "df_train['price'].hist(bins=50)"
   ]
  },
  {
   "cell_type": "code",
   "execution_count": 4,
   "metadata": {},
   "outputs": [
    {
     "data": {
      "text/plain": [
       "<AxesSubplot:>"
      ]
     },
     "execution_count": 4,
     "metadata": {},
     "output_type": "execute_result"
    },
    {
     "data": {
      "image/png": "[encoded data removed]",
      "text/plain": [
       "<Figure size 432x288 with 1 Axes>"
      ]
     },
     "metadata": {
      "needs_background": "light"
     },
     "output_type": "display_data"
    }
   ],
   "source": [
    "df_train['price_log'] = df_train['price'].map(lambda x: math.log(x))\n",
    "df_train['price_log'].hist(bins=50)"
   ]
  },
  {
   "cell_type": "markdown",
   "metadata": {},
   "source": [
    "### Connecting data"
   ]
  },
  {
   "cell_type": "code",
   "execution_count": 5,
   "metadata": {},
   "outputs": [],
   "source": [
    "df = pd.concat([df_train, df_test])\n",
    "df = df.reset_index(drop=True)"
   ]
  },
  {
   "cell_type": "markdown",
   "metadata": {},
   "source": [
    "### How it looks like"
   ]
  },
  {
   "cell_type": "code",
   "execution_count": 6,
   "metadata": {},
   "outputs": [],
   "source": [
    "pd.set_option('display.max_columns', None)\n",
    "pd.set_option(\"max_info_columns\", 300)"
   ]
  },
  {
   "cell_type": "code",
   "execution_count": 7,
   "metadata": {},
   "outputs": [
    {
     "name": "stdout",
     "output_type": "stream",
     "text": [
      "<class 'pandas.core.frame.DataFrame'>\n",
      "RangeIndex: 34180 entries, 0 to 34179\n",
      "Data columns (total 70 columns):\n",
      " #   Column                          Non-Null Count  Dtype  \n",
      "---  ------                          --------------  -----  \n",
      " 0   geo_block                       34180 non-null  object \n",
      " 1   breadcrumbs                     34180 non-null  object \n",
      " 2   owner                           34180 non-null  object \n",
      " 3   params                          34180 non-null  object \n",
      " 4   date                            34180 non-null  object \n",
      " 5   user_block                      34180 non-null  object \n",
      " 6   id                              34180 non-null  int64  \n",
      " 7   price                           22732 non-null  float64\n",
      " 8   params_en                       34180 non-null  object \n",
      " 9   Security:                       34180 non-null  object \n",
      " 10  Building type:                  34180 non-null  object \n",
      " 11  Object type:                    34180 non-null  object \n",
      " 12  Number of buildings:            34180 non-null  int64  \n",
      " 13  Ad type:                        34180 non-null  object \n",
      " 14  Developer:                      34180 non-null  object \n",
      " 15  Total area:                     34180 non-null  object \n",
      " 16  Date published:                 34180 non-null  object \n",
      " 17  Number of rooms:                34180 non-null  int64  \n",
      " 18  Parking:                        34180 non-null  object \n",
      " 19  Updated date:                   34180 non-null  object \n",
      " 20  Number of floors:               34180 non-null  object \n",
      " 21  Surrender:                      34180 non-null  object \n",
      " 22  Commission agent:               34180 non-null  object \n",
      " 23  Ceiling height:                 34180 non-null  object \n",
      " 24  Floor:                          34180 non-null  object \n",
      " 25  Construction phase:             34180 non-null  object \n",
      " 26  New building:                   34180 non-null  object \n",
      " 27  Number of apartments:           34180 non-null  int64  \n",
      " 28  Housing class:                  34180 non-null  object \n",
      " 29  Address:                        7319 non-null   object \n",
      " 30  Elevator:                       34180 non-null  object \n",
      " 31  The view from the window:       34180 non-null  object \n",
      " 32  Mortgage possible:              34180 non-null  object \n",
      " 33  Year built:                     34180 non-null  int64  \n",
      " 34  Garbage chute:                  34180 non-null  object \n",
      " 35  Repair:                         34180 non-null  object \n",
      " 36  Kitchen area:                   34180 non-null  object \n",
      " 37  Living room:                    34180 non-null  object \n",
      " 38  Bathroom type:                  34180 non-null  object \n",
      " 39  Balcony type:                   34180 non-null  object \n",
      " 40  Kitchen furniture:              34180 non-null  object \n",
      " 41  Fridge:                         34180 non-null  object \n",
      " 42  Internet:                       34180 non-null  object \n",
      " 43  Furniture:                      34180 non-null  object \n",
      " 44  Phone:                          34180 non-null  object \n",
      " 45  Free layout:                    34180 non-null  object \n",
      " 46  Management company:             34180 non-null  object \n",
      " 47  Number of entrances:            34180 non-null  int64  \n",
      " 48  Type of the building:           34180 non-null  object \n",
      " 49  Room type:                      34180 non-null  object \n",
      " 50  Floor covering:                 34180 non-null  object \n",
      " 51  Series:                         34180 non-null  object \n",
      " 52  Overlap type:                   34180 non-null  object \n",
      " 53  It is possible to bargain:      34180 non-null  object \n",
      " 54  Class:                          34180 non-null  object \n",
      " 55  TV:                             34180 non-null  object \n",
      " 56  Foundation type:                34180 non-null  object \n",
      " 57  Number of dwellings:            34180 non-null  int64  \n",
      " 58  Playground:                     34180 non-null  object \n",
      " 59  Washing machine:                34180 non-null  object \n",
      " 60  The largest number of floors:   34180 non-null  int64  \n",
      " 61  The smallest number of floors:  34180 non-null  int64  \n",
      " 62  Pre-pay                         34180 non-null  int64  \n",
      " 63  area                            34180 non-null  float64\n",
      " 64  kitchen_area                    34180 non-null  float64\n",
      " 65  ceiling_height                  34180 non-null  float64\n",
      " 66  living_room                     34180 non-null  float64\n",
      " 67  block_user_name                 33680 non-null  object \n",
      " 68  block_user_agency               30026 non-null  object \n",
      " 69  price_log                       22732 non-null  float64\n",
      "dtypes: float64(6), int64(10), object(54)\n",
      "memory usage: 18.3+ MB\n"
     ]
    }
   ],
   "source": [
    "df.info()"
   ]
  },
  {
   "cell_type": "code",
   "execution_count": 8,
   "metadata": {},
   "outputs": [
    {
     "data": {
      "text/html": [
       "<div>\n",
       "<style scoped>\n",
       "    .dataframe tbody tr th:only-of-type {\n",
       "        vertical-align: middle;\n",
       "    }\n",
       "\n",
       "    .dataframe tbody tr th {\n",
       "        vertical-align: top;\n",
       "    }\n",
       "\n",
       "    .dataframe thead th {\n",
       "        text-align: right;\n",
       "    }\n",
       "</style>\n",
       "<table border=\"1\" class=\"dataframe\">\n",
       "  <thead>\n",
       "    <tr style=\"text-align: right;\">\n",
       "      <th></th>\n",
       "      <th>geo_block</th>\n",
       "      <th>breadcrumbs</th>\n",
       "      <th>owner</th>\n",
       "      <th>params</th>\n",
       "      <th>date</th>\n",
       "      <th>user_block</th>\n",
       "      <th>id</th>\n",
       "      <th>price</th>\n",
       "      <th>params_en</th>\n",
       "      <th>Security:</th>\n",
       "      <th>Building type:</th>\n",
       "      <th>Object type:</th>\n",
       "      <th>Number of buildings:</th>\n",
       "      <th>Ad type:</th>\n",
       "      <th>Developer:</th>\n",
       "      <th>Total area:</th>\n",
       "      <th>Date published:</th>\n",
       "      <th>Number of rooms:</th>\n",
       "      <th>Parking:</th>\n",
       "      <th>Updated date:</th>\n",
       "      <th>Number of floors:</th>\n",
       "      <th>Surrender:</th>\n",
       "      <th>Commission agent:</th>\n",
       "      <th>Ceiling height:</th>\n",
       "      <th>Floor:</th>\n",
       "      <th>Construction phase:</th>\n",
       "      <th>New building:</th>\n",
       "      <th>Number of apartments:</th>\n",
       "      <th>Housing class:</th>\n",
       "      <th>Address:</th>\n",
       "      <th>Elevator:</th>\n",
       "      <th>The view from the window:</th>\n",
       "      <th>Mortgage possible:</th>\n",
       "      <th>Year built:</th>\n",
       "      <th>Garbage chute:</th>\n",
       "      <th>Repair:</th>\n",
       "      <th>Kitchen area:</th>\n",
       "      <th>Living room:</th>\n",
       "      <th>Bathroom type:</th>\n",
       "      <th>Balcony type:</th>\n",
       "      <th>Kitchen furniture:</th>\n",
       "      <th>Fridge:</th>\n",
       "      <th>Internet:</th>\n",
       "      <th>Furniture:</th>\n",
       "      <th>Phone:</th>\n",
       "      <th>Free layout:</th>\n",
       "      <th>Management company:</th>\n",
       "      <th>Number of entrances:</th>\n",
       "      <th>Type of the building:</th>\n",
       "      <th>Room type:</th>\n",
       "      <th>Floor covering:</th>\n",
       "      <th>Series:</th>\n",
       "      <th>Overlap type:</th>\n",
       "      <th>It is possible to bargain:</th>\n",
       "      <th>Class:</th>\n",
       "      <th>TV:</th>\n",
       "      <th>Foundation type:</th>\n",
       "      <th>Number of dwellings:</th>\n",
       "      <th>Playground:</th>\n",
       "      <th>Washing machine:</th>\n",
       "      <th>The largest number of floors:</th>\n",
       "      <th>The smallest number of floors:</th>\n",
       "      <th>Pre-pay</th>\n",
       "      <th>area</th>\n",
       "      <th>kitchen_area</th>\n",
       "      <th>ceiling_height</th>\n",
       "      <th>living_room</th>\n",
       "      <th>block_user_name</th>\n",
       "      <th>block_user_agency</th>\n",
       "      <th>price_log</th>\n",
       "    </tr>\n",
       "  </thead>\n",
       "  <tbody>\n",
       "    <tr>\n",
       "      <th>0</th>\n",
       "      <td>['г. Москва', 'Лианозово', 'г. Москва', 'Лиано...</td>\n",
       "      <td>['Москва', 'Лианозово', 'м. Алтуфьево', 'МЦК Л...</td>\n",
       "      <td>[]</td>\n",
       "      <td>{'Охрана:': 'закрытая территория', 'Тип здания...</td>\n",
       "      <td>['22 апреля', '12', '(+1 за сегодня)', 'Обновл...</td>\n",
       "      <td>['&lt;div class=\"block-user__name\"&gt;НДВ Недвижимос...</td>\n",
       "      <td>34995</td>\n",
       "      <td>5.402084</td>\n",
       "      <td>{'Security:': 'closed area', 'Building type:':...</td>\n",
       "      <td>closed area</td>\n",
       "      <td>Monolithic</td>\n",
       "      <td>apartments</td>\n",
       "      <td>1</td>\n",
       "      <td>new building</td>\n",
       "      <td>Доходный дом</td>\n",
       "      <td>54.3 м²</td>\n",
       "      <td>22 апреля</td>\n",
       "      <td>2</td>\n",
       "      <td>отдельная многоуровневая, гостевая</td>\n",
       "      <td>18 мая</td>\n",
       "      <td>11</td>\n",
       "      <td>1 кв. 2020 года</td>\n",
       "      <td>no fee</td>\n",
       "      <td>2.8 м</td>\n",
       "      <td>8/11</td>\n",
       "      <td>Building walls</td>\n",
       "      <td>Апарт-комплекс Nord, м. Алтуфьево</td>\n",
       "      <td>163</td>\n",
       "      <td>Comfort class</td>\n",
       "      <td>NaN</td>\n",
       "      <td>-1</td>\n",
       "      <td>-1</td>\n",
       "      <td>-1</td>\n",
       "      <td>-1</td>\n",
       "      <td>-1</td>\n",
       "      <td>-1</td>\n",
       "      <td>-1</td>\n",
       "      <td>-1</td>\n",
       "      <td>-1</td>\n",
       "      <td>-1</td>\n",
       "      <td>-1</td>\n",
       "      <td>-1</td>\n",
       "      <td>-1</td>\n",
       "      <td>-1</td>\n",
       "      <td>-1</td>\n",
       "      <td>-1</td>\n",
       "      <td>-1</td>\n",
       "      <td>-1</td>\n",
       "      <td>-1</td>\n",
       "      <td>-1</td>\n",
       "      <td>-1</td>\n",
       "      <td>-1</td>\n",
       "      <td>-1</td>\n",
       "      <td>-1</td>\n",
       "      <td>-1</td>\n",
       "      <td>-1</td>\n",
       "      <td>-1</td>\n",
       "      <td>-1</td>\n",
       "      <td>-1</td>\n",
       "      <td>-1</td>\n",
       "      <td>-1</td>\n",
       "      <td>-1</td>\n",
       "      <td>-1</td>\n",
       "      <td>54.3</td>\n",
       "      <td>-1.0</td>\n",
       "      <td>2.80</td>\n",
       "      <td>-1.0</td>\n",
       "      <td>НДВ Недвижимость</td>\n",
       "      <td>NaN</td>\n",
       "      <td>1.686785</td>\n",
       "    </tr>\n",
       "    <tr>\n",
       "      <th>1</th>\n",
       "      <td>['г. Москва', 'Ховрино', 'г. Москва', 'Ховрино']</td>\n",
       "      <td>['Москва', 'Ховрино', 'м. Ховрино', 'МЦК Копте...</td>\n",
       "      <td>[]</td>\n",
       "      <td>{'Лифт:': 'да', 'Тип здания:': 'Монолитное', '...</td>\n",
       "      <td>['10 мая', '2', '(+1 за сегодня)', 'Обновлено ...</td>\n",
       "      <td>['&lt;div class=\"block-user__name\"&gt;MR-Group&lt;/div&gt;...</td>\n",
       "      <td>15030</td>\n",
       "      <td>6.827990</td>\n",
       "      <td>{'Elevator:': 'yes', 'Building type:': 'Monoli...</td>\n",
       "      <td>-1</td>\n",
       "      <td>Monolithic</td>\n",
       "      <td>flat</td>\n",
       "      <td>5</td>\n",
       "      <td>new building</td>\n",
       "      <td>MR Group</td>\n",
       "      <td>38 м²</td>\n",
       "      <td>10 мая</td>\n",
       "      <td>2</td>\n",
       "      <td>подземная</td>\n",
       "      <td>16 мая</td>\n",
       "      <td>31</td>\n",
       "      <td>2 кв. 2021 года</td>\n",
       "      <td>no fee</td>\n",
       "      <td>3.15 м</td>\n",
       "      <td>6/31</td>\n",
       "      <td>Building walls</td>\n",
       "      <td>ЖК Discovery (ЖК «Дискавери»), м. Ховрино</td>\n",
       "      <td>1251</td>\n",
       "      <td>Comfort class</td>\n",
       "      <td>NaN</td>\n",
       "      <td>yes</td>\n",
       "      <td>street</td>\n",
       "      <td>yes</td>\n",
       "      <td>-1</td>\n",
       "      <td>-1</td>\n",
       "      <td>-1</td>\n",
       "      <td>-1</td>\n",
       "      <td>-1</td>\n",
       "      <td>-1</td>\n",
       "      <td>-1</td>\n",
       "      <td>-1</td>\n",
       "      <td>-1</td>\n",
       "      <td>-1</td>\n",
       "      <td>-1</td>\n",
       "      <td>-1</td>\n",
       "      <td>-1</td>\n",
       "      <td>-1</td>\n",
       "      <td>-1</td>\n",
       "      <td>-1</td>\n",
       "      <td>-1</td>\n",
       "      <td>-1</td>\n",
       "      <td>-1</td>\n",
       "      <td>-1</td>\n",
       "      <td>-1</td>\n",
       "      <td>-1</td>\n",
       "      <td>-1</td>\n",
       "      <td>-1</td>\n",
       "      <td>-1</td>\n",
       "      <td>-1</td>\n",
       "      <td>-1</td>\n",
       "      <td>-1</td>\n",
       "      <td>-1</td>\n",
       "      <td>-1</td>\n",
       "      <td>38.0</td>\n",
       "      <td>-1.0</td>\n",
       "      <td>3.15</td>\n",
       "      <td>-1.0</td>\n",
       "      <td>MR-Group</td>\n",
       "      <td>MR-Group</td>\n",
       "      <td>1.921030</td>\n",
       "    </tr>\n",
       "    <tr>\n",
       "      <th>2</th>\n",
       "      <td>['г. Москва', 'ул Лобачевского', 'г. Москва', ...</td>\n",
       "      <td>['Москва', 'МЦК Кутузовская', 'ул. Лобачевского']</td>\n",
       "      <td>['ЖК \"Крылья\". Доп. скидка 5%!']</td>\n",
       "      <td>{'Лифт:': 'да', 'Охрана:': 'закрытая территори...</td>\n",
       "      <td>['20 марта', '12', '(+2 за сегодня)', 'Обновле...</td>\n",
       "      <td>[]</td>\n",
       "      <td>37811</td>\n",
       "      <td>8.680000</td>\n",
       "      <td>{'Elevator:': 'yes', 'Security:': 'closed area...</td>\n",
       "      <td>closed area</td>\n",
       "      <td>Monolithic</td>\n",
       "      <td>apartments</td>\n",
       "      <td>3</td>\n",
       "      <td>from the developer</td>\n",
       "      <td>АО «Лидер Инвест»</td>\n",
       "      <td>40 м²</td>\n",
       "      <td>20 марта</td>\n",
       "      <td>1</td>\n",
       "      <td>подземная на 1103 м/м, открытая</td>\n",
       "      <td>18 мая</td>\n",
       "      <td>от 21 до 39</td>\n",
       "      <td>-1</td>\n",
       "      <td>no fee</td>\n",
       "      <td>3 м</td>\n",
       "      <td>20</td>\n",
       "      <td>Playground</td>\n",
       "      <td>ЖК «Крылья», м. Раменки</td>\n",
       "      <td>1473</td>\n",
       "      <td>Business class</td>\n",
       "      <td>NaN</td>\n",
       "      <td>yes</td>\n",
       "      <td>-1</td>\n",
       "      <td>-1</td>\n",
       "      <td>2021</td>\n",
       "      <td>yes</td>\n",
       "      <td>-1</td>\n",
       "      <td>-1</td>\n",
       "      <td>-1</td>\n",
       "      <td>-1</td>\n",
       "      <td>-1</td>\n",
       "      <td>-1</td>\n",
       "      <td>-1</td>\n",
       "      <td>-1</td>\n",
       "      <td>-1</td>\n",
       "      <td>-1</td>\n",
       "      <td>-1</td>\n",
       "      <td>-1</td>\n",
       "      <td>-1</td>\n",
       "      <td>-1</td>\n",
       "      <td>-1</td>\n",
       "      <td>-1</td>\n",
       "      <td>-1</td>\n",
       "      <td>-1</td>\n",
       "      <td>-1</td>\n",
       "      <td>-1</td>\n",
       "      <td>-1</td>\n",
       "      <td>-1</td>\n",
       "      <td>-1</td>\n",
       "      <td>-1</td>\n",
       "      <td>-1</td>\n",
       "      <td>-1</td>\n",
       "      <td>-1</td>\n",
       "      <td>-1</td>\n",
       "      <td>40.0</td>\n",
       "      <td>-1.0</td>\n",
       "      <td>3.00</td>\n",
       "      <td>-1.0</td>\n",
       "      <td>-1</td>\n",
       "      <td>-1</td>\n",
       "      <td>2.161022</td>\n",
       "    </tr>\n",
       "    <tr>\n",
       "      <th>3</th>\n",
       "      <td>['г. Москва', 'Ховрино', 'ул Дыбенко', 'г. Мос...</td>\n",
       "      <td>['Москва', 'Ховрино', 'м. Ховрино', 'МЦК Копте...</td>\n",
       "      <td>[]</td>\n",
       "      <td>{'Лифт:': 'да', 'Тип здания:': 'Монолитное', '...</td>\n",
       "      <td>['29 апреля', '3', '(+1 за сегодня)', 'Обновле...</td>\n",
       "      <td>['&lt;div class=\"block-user__name\"&gt;MR-Group&lt;/div&gt;...</td>\n",
       "      <td>31685</td>\n",
       "      <td>8.624435</td>\n",
       "      <td>{'Elevator:': 'yes', 'Building type:': 'Monoli...</td>\n",
       "      <td>-1</td>\n",
       "      <td>Monolithic</td>\n",
       "      <td>flat</td>\n",
       "      <td>5</td>\n",
       "      <td>new building</td>\n",
       "      <td>MR Group</td>\n",
       "      <td>43 м²</td>\n",
       "      <td>29 апреля</td>\n",
       "      <td>2</td>\n",
       "      <td>подземная</td>\n",
       "      <td>13 мая</td>\n",
       "      <td>31</td>\n",
       "      <td>2 кв. 2021 года</td>\n",
       "      <td>no fee</td>\n",
       "      <td>3.15 м</td>\n",
       "      <td>27/31</td>\n",
       "      <td>Building walls</td>\n",
       "      <td>ЖК Discovery (ЖК «Дискавери»), м. Ховрино</td>\n",
       "      <td>1251</td>\n",
       "      <td>Comfort class</td>\n",
       "      <td>NaN</td>\n",
       "      <td>yes</td>\n",
       "      <td>street</td>\n",
       "      <td>yes</td>\n",
       "      <td>-1</td>\n",
       "      <td>-1</td>\n",
       "      <td>-1</td>\n",
       "      <td>-1</td>\n",
       "      <td>-1</td>\n",
       "      <td>-1</td>\n",
       "      <td>-1</td>\n",
       "      <td>-1</td>\n",
       "      <td>-1</td>\n",
       "      <td>-1</td>\n",
       "      <td>-1</td>\n",
       "      <td>-1</td>\n",
       "      <td>-1</td>\n",
       "      <td>-1</td>\n",
       "      <td>-1</td>\n",
       "      <td>-1</td>\n",
       "      <td>-1</td>\n",
       "      <td>-1</td>\n",
       "      <td>-1</td>\n",
       "      <td>-1</td>\n",
       "      <td>-1</td>\n",
       "      <td>-1</td>\n",
       "      <td>-1</td>\n",
       "      <td>-1</td>\n",
       "      <td>-1</td>\n",
       "      <td>-1</td>\n",
       "      <td>-1</td>\n",
       "      <td>-1</td>\n",
       "      <td>-1</td>\n",
       "      <td>-1</td>\n",
       "      <td>43.0</td>\n",
       "      <td>-1.0</td>\n",
       "      <td>3.15</td>\n",
       "      <td>-1.0</td>\n",
       "      <td>MR-Group</td>\n",
       "      <td>MR-Group</td>\n",
       "      <td>2.154599</td>\n",
       "    </tr>\n",
       "    <tr>\n",
       "      <th>4</th>\n",
       "      <td>['г. Москва', 'Даниловский', 'г. Москва', 'Дан...</td>\n",
       "      <td>['Москва', 'Даниловский', 'м. Автозаводская', ...</td>\n",
       "      <td>[]</td>\n",
       "      <td>{'Общая площадь:': '141.1 м²', 'Дата публикаци...</td>\n",
       "      <td>['15 декабря 2018', '30', '(+1 за сегодня)', '...</td>\n",
       "      <td>['&lt;div class=\"block-user__name\"&gt;Наталья Вдович...</td>\n",
       "      <td>56215</td>\n",
       "      <td>29.500000</td>\n",
       "      <td>{'Total area:': '141.1 м²', 'Date published:':...</td>\n",
       "      <td>-1</td>\n",
       "      <td>Monolithic</td>\n",
       "      <td>apartments</td>\n",
       "      <td>-1</td>\n",
       "      <td>secondary</td>\n",
       "      <td>-1</td>\n",
       "      <td>141.1 м²</td>\n",
       "      <td>15 декабря 2018</td>\n",
       "      <td>4</td>\n",
       "      <td>-1</td>\n",
       "      <td>15 мая</td>\n",
       "      <td>16</td>\n",
       "      <td>-1</td>\n",
       "      <td>no fee</td>\n",
       "      <td>-1</td>\n",
       "      <td>2/16</td>\n",
       "      <td>-1</td>\n",
       "      <td>-1</td>\n",
       "      <td>-1</td>\n",
       "      <td>-1</td>\n",
       "      <td>Москва, м. Автозаводская, Москва, проезд Павел...</td>\n",
       "      <td>-1</td>\n",
       "      <td>-1</td>\n",
       "      <td>-1</td>\n",
       "      <td>-1</td>\n",
       "      <td>-1</td>\n",
       "      <td>-1</td>\n",
       "      <td>-1</td>\n",
       "      <td>-1</td>\n",
       "      <td>-1</td>\n",
       "      <td>-1</td>\n",
       "      <td>-1</td>\n",
       "      <td>-1</td>\n",
       "      <td>-1</td>\n",
       "      <td>-1</td>\n",
       "      <td>-1</td>\n",
       "      <td>-1</td>\n",
       "      <td>-1</td>\n",
       "      <td>-1</td>\n",
       "      <td>-1</td>\n",
       "      <td>-1</td>\n",
       "      <td>-1</td>\n",
       "      <td>-1</td>\n",
       "      <td>-1</td>\n",
       "      <td>-1</td>\n",
       "      <td>-1</td>\n",
       "      <td>-1</td>\n",
       "      <td>-1</td>\n",
       "      <td>-1</td>\n",
       "      <td>-1</td>\n",
       "      <td>-1</td>\n",
       "      <td>-1</td>\n",
       "      <td>-1</td>\n",
       "      <td>-1</td>\n",
       "      <td>141.1</td>\n",
       "      <td>-1.0</td>\n",
       "      <td>-1.00</td>\n",
       "      <td>-1.0</td>\n",
       "      <td>Наталья Вдовиченко</td>\n",
       "      <td>NaN</td>\n",
       "      <td>3.384390</td>\n",
       "    </tr>\n",
       "  </tbody>\n",
       "</table>\n",
       "</div>"
      ],
      "text/plain": [
       "                                           geo_block  \\\n",
       "0  ['г. Москва', 'Лианозово', 'г. Москва', 'Лиано...   \n",
       "1   ['г. Москва', 'Ховрино', 'г. Москва', 'Ховрино']   \n",
       "2  ['г. Москва', 'ул Лобачевского', 'г. Москва', ...   \n",
       "3  ['г. Москва', 'Ховрино', 'ул Дыбенко', 'г. Мос...   \n",
       "4  ['г. Москва', 'Даниловский', 'г. Москва', 'Дан...   \n",
       "\n",
       "                                         breadcrumbs  \\\n",
       "0  ['Москва', 'Лианозово', 'м. Алтуфьево', 'МЦК Л...   \n",
       "1  ['Москва', 'Ховрино', 'м. Ховрино', 'МЦК Копте...   \n",
       "2  ['Москва', 'МЦК Кутузовская', 'ул. Лобачевского']   \n",
       "3  ['Москва', 'Ховрино', 'м. Ховрино', 'МЦК Копте...   \n",
       "4  ['Москва', 'Даниловский', 'м. Автозаводская', ...   \n",
       "\n",
       "                              owner  \\\n",
       "0                                []   \n",
       "1                                []   \n",
       "2  ['ЖК \"Крылья\". Доп. скидка 5%!']   \n",
       "3                                []   \n",
       "4                                []   \n",
       "\n",
       "                                              params  \\\n",
       "0  {'Охрана:': 'закрытая территория', 'Тип здания...   \n",
       "1  {'Лифт:': 'да', 'Тип здания:': 'Монолитное', '...   \n",
       "2  {'Лифт:': 'да', 'Охрана:': 'закрытая территори...   \n",
       "3  {'Лифт:': 'да', 'Тип здания:': 'Монолитное', '...   \n",
       "4  {'Общая площадь:': '141.1 м²', 'Дата публикаци...   \n",
       "\n",
       "                                                date  \\\n",
       "0  ['22 апреля', '12', '(+1 за сегодня)', 'Обновл...   \n",
       "1  ['10 мая', '2', '(+1 за сегодня)', 'Обновлено ...   \n",
       "2  ['20 марта', '12', '(+2 за сегодня)', 'Обновле...   \n",
       "3  ['29 апреля', '3', '(+1 за сегодня)', 'Обновле...   \n",
       "4  ['15 декабря 2018', '30', '(+1 за сегодня)', '...   \n",
       "\n",
       "                                          user_block     id      price  \\\n",
       "0  ['<div class=\"block-user__name\">НДВ Недвижимос...  34995   5.402084   \n",
       "1  ['<div class=\"block-user__name\">MR-Group</div>...  15030   6.827990   \n",
       "2                                                 []  37811   8.680000   \n",
       "3  ['<div class=\"block-user__name\">MR-Group</div>...  31685   8.624435   \n",
       "4  ['<div class=\"block-user__name\">Наталья Вдович...  56215  29.500000   \n",
       "\n",
       "                                           params_en    Security:  \\\n",
       "0  {'Security:': 'closed area', 'Building type:':...  closed area   \n",
       "1  {'Elevator:': 'yes', 'Building type:': 'Monoli...           -1   \n",
       "2  {'Elevator:': 'yes', 'Security:': 'closed area...  closed area   \n",
       "3  {'Elevator:': 'yes', 'Building type:': 'Monoli...           -1   \n",
       "4  {'Total area:': '141.1 м²', 'Date published:':...           -1   \n",
       "\n",
       "  Building type: Object type:  Number of buildings:            Ad type:  \\\n",
       "0     Monolithic   apartments                     1        new building   \n",
       "1     Monolithic         flat                     5        new building   \n",
       "2     Monolithic   apartments                     3  from the developer   \n",
       "3     Monolithic         flat                     5        new building   \n",
       "4     Monolithic   apartments                    -1           secondary   \n",
       "\n",
       "          Developer: Total area:  Date published:  Number of rooms:  \\\n",
       "0       Доходный дом     54.3 м²        22 апреля                 2   \n",
       "1           MR Group       38 м²           10 мая                 2   \n",
       "2  АО «Лидер Инвест»       40 м²         20 марта                 1   \n",
       "3           MR Group       43 м²        29 апреля                 2   \n",
       "4                 -1    141.1 м²  15 декабря 2018                 4   \n",
       "\n",
       "                             Parking: Updated date: Number of floors:  \\\n",
       "0  отдельная многоуровневая, гостевая        18 мая                11   \n",
       "1                           подземная        16 мая                31   \n",
       "2     подземная на 1103 м/м, открытая        18 мая       от 21 до 39   \n",
       "3                           подземная        13 мая                31   \n",
       "4                                  -1        15 мая                16   \n",
       "\n",
       "        Surrender: Commission agent: Ceiling height: Floor:  \\\n",
       "0  1 кв. 2020 года            no fee           2.8 м   8/11   \n",
       "1  2 кв. 2021 года            no fee          3.15 м   6/31   \n",
       "2               -1            no fee             3 м     20   \n",
       "3  2 кв. 2021 года            no fee          3.15 м  27/31   \n",
       "4               -1            no fee              -1   2/16   \n",
       "\n",
       "  Construction phase:                              New building:  \\\n",
       "0      Building walls          Апарт-комплекс Nord, м. Алтуфьево   \n",
       "1      Building walls  ЖК Discovery (ЖК «Дискавери»), м. Ховрино   \n",
       "2          Playground                    ЖК «Крылья», м. Раменки   \n",
       "3      Building walls  ЖК Discovery (ЖК «Дискавери»), м. Ховрино   \n",
       "4                  -1                                         -1   \n",
       "\n",
       "   Number of apartments:  Housing class:  \\\n",
       "0                    163   Comfort class   \n",
       "1                   1251   Comfort class   \n",
       "2                   1473  Business class   \n",
       "3                   1251   Comfort class   \n",
       "4                     -1              -1   \n",
       "\n",
       "                                            Address: Elevator:  \\\n",
       "0                                                NaN        -1   \n",
       "1                                                NaN       yes   \n",
       "2                                                NaN       yes   \n",
       "3                                                NaN       yes   \n",
       "4  Москва, м. Автозаводская, Москва, проезд Павел...        -1   \n",
       "\n",
       "  The view from the window: Mortgage possible:  Year built: Garbage chute:  \\\n",
       "0                        -1                 -1           -1             -1   \n",
       "1                    street                yes           -1             -1   \n",
       "2                        -1                 -1         2021            yes   \n",
       "3                    street                yes           -1             -1   \n",
       "4                        -1                 -1           -1             -1   \n",
       "\n",
       "  Repair: Kitchen area: Living room: Bathroom type: Balcony type:  \\\n",
       "0      -1            -1           -1             -1            -1   \n",
       "1      -1            -1           -1             -1            -1   \n",
       "2      -1            -1           -1             -1            -1   \n",
       "3      -1            -1           -1             -1            -1   \n",
       "4      -1            -1           -1             -1            -1   \n",
       "\n",
       "  Kitchen furniture: Fridge: Internet: Furniture: Phone: Free layout:  \\\n",
       "0                 -1      -1        -1         -1     -1           -1   \n",
       "1                 -1      -1        -1         -1     -1           -1   \n",
       "2                 -1      -1        -1         -1     -1           -1   \n",
       "3                 -1      -1        -1         -1     -1           -1   \n",
       "4                 -1      -1        -1         -1     -1           -1   \n",
       "\n",
       "  Management company:  Number of entrances: Type of the building: Room type:  \\\n",
       "0                  -1                    -1                    -1         -1   \n",
       "1                  -1                    -1                    -1         -1   \n",
       "2                  -1                    -1                    -1         -1   \n",
       "3                  -1                    -1                    -1         -1   \n",
       "4                  -1                    -1                    -1         -1   \n",
       "\n",
       "  Floor covering: Series: Overlap type: It is possible to bargain: Class: TV:  \\\n",
       "0              -1      -1            -1                         -1     -1  -1   \n",
       "1              -1      -1            -1                         -1     -1  -1   \n",
       "2              -1      -1            -1                         -1     -1  -1   \n",
       "3              -1      -1            -1                         -1     -1  -1   \n",
       "4              -1      -1            -1                         -1     -1  -1   \n",
       "\n",
       "  Foundation type:  Number of dwellings: Playground: Washing machine:  \\\n",
       "0               -1                    -1          -1               -1   \n",
       "1               -1                    -1          -1               -1   \n",
       "2               -1                    -1          -1               -1   \n",
       "3               -1                    -1          -1               -1   \n",
       "4               -1                    -1          -1               -1   \n",
       "\n",
       "   The largest number of floors:  The smallest number of floors:  Pre-pay  \\\n",
       "0                             -1                              -1       -1   \n",
       "1                             -1                              -1       -1   \n",
       "2                             -1                              -1       -1   \n",
       "3                             -1                              -1       -1   \n",
       "4                             -1                              -1       -1   \n",
       "\n",
       "    area  kitchen_area  ceiling_height  living_room     block_user_name  \\\n",
       "0   54.3          -1.0            2.80         -1.0    НДВ Недвижимость   \n",
       "1   38.0          -1.0            3.15         -1.0            MR-Group   \n",
       "2   40.0          -1.0            3.00         -1.0                  -1   \n",
       "3   43.0          -1.0            3.15         -1.0            MR-Group   \n",
       "4  141.1          -1.0           -1.00         -1.0  Наталья Вдовиченко   \n",
       "\n",
       "  block_user_agency  price_log  \n",
       "0               NaN   1.686785  \n",
       "1          MR-Group   1.921030  \n",
       "2                -1   2.161022  \n",
       "3          MR-Group   2.154599  \n",
       "4               NaN   3.384390  "
      ]
     },
     "execution_count": 8,
     "metadata": {},
     "output_type": "execute_result"
    }
   ],
   "source": [
    "df.head()"
   ]
  },
  {
   "cell_type": "markdown",
   "metadata": {},
   "source": [
    "### We take values from the columns : Adress:, geo_block, breadcrumbs"
   ]
  },
  {
   "cell_type": "code",
   "execution_count": 9,
   "metadata": {},
   "outputs": [
    {
     "data": {
      "text/plain": [
       "11867    NaN\n",
       "6519     NaN\n",
       "5801     NaN\n",
       "Name: Address:, dtype: object"
      ]
     },
     "execution_count": 9,
     "metadata": {},
     "output_type": "execute_result"
    }
   ],
   "source": [
    "df['Address:'].sample(3)"
   ]
  },
  {
   "cell_type": "code",
   "execution_count": 10,
   "metadata": {},
   "outputs": [
    {
     "data": {
      "text/plain": [
       "25684    ['г. Москва', 'Некрасовка', 'г. Москва', 'Некр...\n",
       "5484                            ['г. Москва', 'г. Москва']\n",
       "24074    ['Новая Москва', 'п. Сосенское', 'п. Коммунарк...\n",
       "Name: geo_block, dtype: object"
      ]
     },
     "execution_count": 10,
     "metadata": {},
     "output_type": "execute_result"
    }
   ],
   "source": [
    "df['geo_block'].sample(3)"
   ]
  },
  {
   "cell_type": "code",
   "execution_count": 11,
   "metadata": {},
   "outputs": [
    {
     "data": {
      "text/plain": [
       "23103    ['Москва', 'Черёмушки', 'м. Профсоюзная', 'МЦК...\n",
       "24468    ['Москва', 'Ростокино', 'м. Ботанический сад',...\n",
       "33645    ['Москва', 'Басманный', 'м. Бауманская', 'ул. ...\n",
       "Name: breadcrumbs, dtype: object"
      ]
     },
     "execution_count": 11,
     "metadata": {},
     "output_type": "execute_result"
    }
   ],
   "source": [
    "df['breadcrumbs'].sample(3)"
   ]
  },
  {
   "cell_type": "code",
   "execution_count": 12,
   "metadata": {},
   "outputs": [],
   "source": [
    "def find_value_in_list(mylist, value):\n",
    "    for i in range(len(mylist)):\n",
    "        if value in mylist[i]:\n",
    "            if mylist[i][0] == '[': mylist[i] = mylist[i][1:]\n",
    "            if mylist[i][-1] == ']': mylist[i] = mylist[i][:-1]\n",
    "            return mylist[i]\n",
    "        \n",
    "def new_column_with_searched_values(name, value):\n",
    "    df[name] = df['Address:'].map(lambda x: find_value_in_list(x.split(','), value))\n",
    "    df[name] = df['geo_block'].map(lambda x: find_value_in_list(x.split(','), value))\n",
    "    df[name] = df['breadcrumbs'].map(lambda x: find_value_in_list(x.split(','), value))"
   ]
  },
  {
   "cell_type": "code",
   "execution_count": 13,
   "metadata": {},
   "outputs": [],
   "source": [
    "df['Address:'] = df['Address:'].map(lambda x: str(x))\n",
    "new_column_with_searched_values('street', 'ул.')\n",
    "new_column_with_searched_values('subway', 'м.')\n",
    "new_column_with_searched_values('MCC', 'МЦК')\n",
    "new_column_with_searched_values('New_Moscow', 'Новая Москва')\n",
    "new_column_with_searched_values('village', 'д.')"
   ]
  },
  {
   "cell_type": "markdown",
   "metadata": {},
   "source": [
    "### Getting offer views"
   ]
  },
  {
   "cell_type": "code",
   "execution_count": 14,
   "metadata": {},
   "outputs": [
    {
     "data": {
      "text/plain": [
       "\"['22 апреля', '12', '(+1 за сегодня)', 'Обновлено 18 мая']\""
      ]
     },
     "execution_count": 14,
     "metadata": {},
     "output_type": "execute_result"
    }
   ],
   "source": [
    "df['date'][0]"
   ]
  },
  {
   "cell_type": "code",
   "execution_count": 15,
   "metadata": {
    "scrolled": true
   },
   "outputs": [],
   "source": [
    "df['offer_views'] = df['date'].map(lambda x: int(x.split(',')[1].replace(' ', '').replace('\\'', '').replace(']', '')))"
   ]
  },
  {
   "cell_type": "markdown",
   "metadata": {},
   "source": [
    "### Floor:"
   ]
  },
  {
   "cell_type": "code",
   "execution_count": 16,
   "metadata": {},
   "outputs": [
    {
     "data": {
      "text/plain": [
       "0     8/11\n",
       "1     6/31\n",
       "2       20\n",
       "3    27/31\n",
       "4     2/16\n",
       "Name: Floor:, dtype: object"
      ]
     },
     "execution_count": 16,
     "metadata": {},
     "output_type": "execute_result"
    }
   ],
   "source": [
    "df['Floor:'].head()"
   ]
  },
  {
   "cell_type": "code",
   "execution_count": 17,
   "metadata": {},
   "outputs": [],
   "source": [
    "df['floor'] = df['Floor:'].map(lambda x: int(x.split('/')[0]))"
   ]
  },
  {
   "cell_type": "markdown",
   "metadata": {},
   "source": [
    "### Surrender:"
   ]
  },
  {
   "cell_type": "code",
   "execution_count": 18,
   "metadata": {},
   "outputs": [
    {
     "data": {
      "text/plain": [
       "0    1 кв. 2020 года\n",
       "1    2 кв. 2021 года\n",
       "2                 -1\n",
       "3    2 кв. 2021 года\n",
       "4                 -1\n",
       "Name: Surrender:, dtype: object"
      ]
     },
     "execution_count": 18,
     "metadata": {},
     "output_type": "execute_result"
    }
   ],
   "source": [
    "df['Surrender:'].head()"
   ]
  },
  {
   "cell_type": "code",
   "execution_count": 19,
   "metadata": {},
   "outputs": [],
   "source": [
    "df['surrender_year'] = df['Surrender:'].map(lambda x: int(x.split(' ')[2]) if type(x) == str and len(x.split(' ')) == 4 else x)\n",
    "df['surrender_year'] = df['surrender_year'].map(lambda x: int(x.split(' ')[0]) if type(x) == str and len(x.split(' ')) == 2 else int(x))"
   ]
  },
  {
   "cell_type": "code",
   "execution_count": 20,
   "metadata": {},
   "outputs": [
    {
     "data": {
      "text/html": [
       "<div>\n",
       "<style scoped>\n",
       "    .dataframe tbody tr th:only-of-type {\n",
       "        vertical-align: middle;\n",
       "    }\n",
       "\n",
       "    .dataframe tbody tr th {\n",
       "        vertical-align: top;\n",
       "    }\n",
       "\n",
       "    .dataframe thead th {\n",
       "        text-align: right;\n",
       "    }\n",
       "</style>\n",
       "<table border=\"1\" class=\"dataframe\">\n",
       "  <thead>\n",
       "    <tr style=\"text-align: right;\">\n",
       "      <th></th>\n",
       "      <th>surrender_year</th>\n",
       "      <th>Year built:</th>\n",
       "    </tr>\n",
       "  </thead>\n",
       "  <tbody>\n",
       "    <tr>\n",
       "      <th>0</th>\n",
       "      <td>2020</td>\n",
       "      <td>-1</td>\n",
       "    </tr>\n",
       "    <tr>\n",
       "      <th>1</th>\n",
       "      <td>2021</td>\n",
       "      <td>-1</td>\n",
       "    </tr>\n",
       "    <tr>\n",
       "      <th>2</th>\n",
       "      <td>-1</td>\n",
       "      <td>2021</td>\n",
       "    </tr>\n",
       "    <tr>\n",
       "      <th>3</th>\n",
       "      <td>2021</td>\n",
       "      <td>-1</td>\n",
       "    </tr>\n",
       "    <tr>\n",
       "      <th>4</th>\n",
       "      <td>-1</td>\n",
       "      <td>-1</td>\n",
       "    </tr>\n",
       "  </tbody>\n",
       "</table>\n",
       "</div>"
      ],
      "text/plain": [
       "   surrender_year  Year built:\n",
       "0            2020           -1\n",
       "1            2021           -1\n",
       "2              -1         2021\n",
       "3            2021           -1\n",
       "4              -1           -1"
      ]
     },
     "execution_count": 20,
     "metadata": {},
     "output_type": "execute_result"
    }
   ],
   "source": [
    "df[['surrender_year', 'Year built:']].head(5)"
   ]
  },
  {
   "cell_type": "code",
   "execution_count": 21,
   "metadata": {},
   "outputs": [
    {
     "name": "stderr",
     "output_type": "stream",
     "text": [
      "<ipython-input-21-cd90db053a2d>:3: SettingWithCopyWarning: \n",
      "A value is trying to be set on a copy of a slice from a DataFrame\n",
      "\n",
      "See the caveats in the documentation: https://pandas.pydata.org/pandas-docs/stable/user_guide/indexing.html#returning-a-view-versus-a-copy\n",
      "  df['Year built:'][i] = df['surrender_year'][i]\n"
     ]
    }
   ],
   "source": [
    "for i in range(len(df['Year built:'])):\n",
    "    if df['Year built:'][i] == -1:\n",
    "        df['Year built:'][i] = df['surrender_year'][i]"
   ]
  },
  {
   "cell_type": "markdown",
   "metadata": {},
   "source": [
    "### Changing object to int/float"
   ]
  },
  {
   "cell_type": "code",
   "execution_count": 22,
   "metadata": {},
   "outputs": [],
   "source": [
    "def object_to_int(feat_name):\n",
    "    df[feat_name] = df[feat_name].map(lambda x: int(x))"
   ]
  },
  {
   "cell_type": "code",
   "execution_count": 23,
   "metadata": {},
   "outputs": [],
   "source": [
    "feats_to_int = [\n",
    "    'Number of buildings:',\n",
    "    'Number of rooms:',\n",
    "    'Number of apartments:',\n",
    "    'Year built:',\n",
    "    'Number of entrances:',\n",
    "    'Number of rooms:',\n",
    "    'The largest number of floors:',\n",
    "    'The smallest number of floors:',\n",
    "    'Pre-pay'\n",
    "]\n",
    "\n",
    "for feat in feats_to_int:\n",
    "    object_to_int(feat)  "
   ]
  },
  {
   "cell_type": "markdown",
   "metadata": {},
   "source": [
    "### ceiling_height"
   ]
  },
  {
   "cell_type": "markdown",
   "metadata": {},
   "source": [
    "Removing outliers and rounding to tenths "
   ]
  },
  {
   "cell_type": "code",
   "execution_count": 24,
   "metadata": {},
   "outputs": [
    {
     "data": {
      "text/plain": [
       "count    34180.000000\n",
       "mean         1.995650\n",
       "std          2.212868\n",
       "min         -1.000000\n",
       "25%          2.000000\n",
       "50%          2.800000\n",
       "75%          3.000000\n",
       "max        100.000000\n",
       "Name: ceiling_height, dtype: float64"
      ]
     },
     "execution_count": 24,
     "metadata": {},
     "output_type": "execute_result"
    }
   ],
   "source": [
    "df['ceiling_height'].describe()"
   ]
  },
  {
   "cell_type": "code",
   "execution_count": 25,
   "metadata": {},
   "outputs": [],
   "source": [
    "df['ceiling_height'] = df['ceiling_height'].map(lambda x: x if x > 1 and x < 10 else -1)\n",
    "df['ceiling_height'] = df['ceiling_height'].map(lambda x: round(x, 1))"
   ]
  },
  {
   "cell_type": "markdown",
   "metadata": {},
   "source": [
    "### Boolean features"
   ]
  },
  {
   "cell_type": "code",
   "execution_count": 26,
   "metadata": {},
   "outputs": [],
   "source": [
    "df['elite_class'] = df['Housing class:'].map(lambda x: True if x == 'Elite class' else False)\n",
    "df['security_true'] = df['Security:'].map(lambda x: True if x != -1 and x != 'No' and x != 'no' else False)\n",
    "df['parking_true'] = df['Parking:'].map(lambda x: True if x != -1 else False)\n",
    "df['no_fee_true'] = df['Commission agent:'].map(lambda x: True if x == 'no fee' else False)\n",
    "df['new_building_true'] = df['New building:'].map(lambda x: True if x != -1 else False)"
   ]
  },
  {
   "cell_type": "markdown",
   "metadata": {},
   "source": [
    "### Features for logarithmic transformation "
   ]
  },
  {
   "cell_type": "code",
   "execution_count": 27,
   "metadata": {},
   "outputs": [],
   "source": [
    "num_feats = [\n",
    "    'Number of buildings:',\n",
    "    'Number of rooms:',\n",
    "    'Number of apartments:',\n",
    "    'area',\n",
    "    'kitchen_area',\n",
    "    'ceiling_height',\n",
    "    'living_room',\n",
    "    'offer_views',\n",
    "    'floor'            \n",
    "]"
   ]
  },
  {
   "cell_type": "code",
   "execution_count": 28,
   "metadata": {},
   "outputs": [
    {
     "data": {
      "image/png": "[encoded data removed]",
      "text/plain": [
       "<Figure size 432x288 with 1 Axes>"
      ]
     },
     "metadata": {
      "needs_background": "light"
     },
     "output_type": "display_data"
    },
    {
     "data": {
      "image/png": "[encoded data removed]",
      "text/plain": [
       "<Figure size 432x288 with 1 Axes>"
      ]
     },
     "metadata": {
      "needs_background": "light"
     },
     "output_type": "display_data"
    },
    {
     "data": {
      "image/png": "[encoded data removed]",
      "text/plain": [
       "<Figure size 432x288 with 1 Axes>"
      ]
     },
     "metadata": {
      "needs_background": "light"
     },
     "output_type": "display_data"
    },
    {
     "data": {
      "image/png": "[encoded data removed]",
      "text/plain": [
       "<Figure size 432x288 with 1 Axes>"
      ]
     },
     "metadata": {
      "needs_background": "light"
     },
     "output_type": "display_data"
    },
    {
     "data": {
      "image/png": "[encoded data removed]",
      "text/plain": [
       "<Figure size 432x288 with 1 Axes>"
      ]
     },
     "metadata": {
      "needs_background": "light"
     },
     "output_type": "display_data"
    },
    {
     "data": {
      "image/png": "[encoded data removed]",
      "text/plain": [
       "<Figure size 432x288 with 1 Axes>"
      ]
     },
     "metadata": {
      "needs_background": "light"
     },
     "output_type": "display_data"
    },
    {
     "data": {
      "image/png": "[encoded data removed]",
      "text/plain": [
       "<Figure size 432x288 with 1 Axes>"
      ]
     },
     "metadata": {
      "needs_background": "light"
     },
     "output_type": "display_data"
    },
    {
     "data": {
      "image/png": "[encoded data removed]",
      "text/plain": [
       "<Figure size 432x288 with 1 Axes>"
      ]
     },
     "metadata": {
      "needs_background": "light"
     },
     "output_type": "display_data"
    },
    {
     "data": {
      "image/png": "[encoded data removed]",
      "text/plain": [
       "<Figure size 432x288 with 1 Axes>"
      ]
     },
     "metadata": {
      "needs_background": "light"
     },
     "output_type": "display_data"
    }
   ],
   "source": [
    "for feat in num_feats:\n",
    "    df[feat].hist(bins=50)\n",
    "    plt.title(feat)\n",
    "    plt.show()"
   ]
  },
  {
   "cell_type": "code",
   "execution_count": 29,
   "metadata": {},
   "outputs": [],
   "source": [
    "for feat in num_feats:\n",
    "    df[\"{}_log\".format(feat)] = df[feat].map(lambda x: math.log(x + 2))"
   ]
  },
  {
   "cell_type": "code",
   "execution_count": 30,
   "metadata": {},
   "outputs": [],
   "source": [
    "num_log_feats = [x for x in df.columns if \"_log\" in x]"
   ]
  },
  {
   "cell_type": "code",
   "execution_count": 31,
   "metadata": {},
   "outputs": [
    {
     "data": {
      "image/png": "[encoded data removed]",
      "text/plain": [
       "<Figure size 432x288 with 1 Axes>"
      ]
     },
     "metadata": {
      "needs_background": "light"
     },
     "output_type": "display_data"
    },
    {
     "data": {
      "image/png": "[encoded data removed]",
      "text/plain": [
       "<Figure size 432x288 with 1 Axes>"
      ]
     },
     "metadata": {
      "needs_background": "light"
     },
     "output_type": "display_data"
    },
    {
     "data": {
      "image/png": "[encoded data removed]",
      "text/plain": [
       "<Figure size 432x288 with 1 Axes>"
      ]
     },
     "metadata": {
      "needs_background": "light"
     },
     "output_type": "display_data"
    },
    {
     "data": {
      "image/png": "[encoded data removed]",
      "text/plain": [
       "<Figure size 432x288 with 1 Axes>"
      ]
     },
     "metadata": {
      "needs_background": "light"
     },
     "output_type": "display_data"
    },
    {
     "data": {
      "image/png": "[encoded data removed]",
      "text/plain": [
       "<Figure size 432x288 with 1 Axes>"
      ]
     },
     "metadata": {
      "needs_background": "light"
     },
     "output_type": "display_data"
    },
    {
     "data": {
      "image/png": "[encoded data removed]",
      "text/plain": [
       "<Figure size 432x288 with 1 Axes>"
      ]
     },
     "metadata": {
      "needs_background": "light"
     },
     "output_type": "display_data"
    },
    {
     "data": {
      "image/png": "[encoded data removed]",
      "text/plain": [
       "<Figure size 432x288 with 1 Axes>"
      ]
     },
     "metadata": {
      "needs_background": "light"
     },
     "output_type": "display_data"
    },
    {
     "data": {
      "image/png": "[encoded data removed]",
      "text/plain": [
       "<Figure size 432x288 with 1 Axes>"
      ]
     },
     "metadata": {
      "needs_background": "light"
     },
     "output_type": "display_data"
    },
    {
     "data": {
      "image/png": "[encoded data removed]",
      "text/plain": [
       "<Figure size 432x288 with 1 Axes>"
      ]
     },
     "metadata": {
      "needs_background": "light"
     },
     "output_type": "display_data"
    },
    {
     "data": {
      "image/png": "[encoded data removed]",
      "text/plain": [
       "<Figure size 432x288 with 1 Axes>"
      ]
     },
     "metadata": {
      "needs_background": "light"
     },
     "output_type": "display_data"
    }
   ],
   "source": [
    "for feat in num_log_feats:\n",
    "    df[feat].hist(bins=50)\n",
    "    plt.title(feat)\n",
    "    plt.show()"
   ]
  },
  {
   "cell_type": "markdown",
   "metadata": {},
   "source": [
    "### Grouping of rarely occurring values "
   ]
  },
  {
   "cell_type": "code",
   "execution_count": 32,
   "metadata": {},
   "outputs": [],
   "source": [
    "def top_20(feat):\n",
    "    temp = df[feat].value_counts()[:20].index\n",
    "    df[feat] = df[feat].map(lambda x: x if x in temp else 'other')"
   ]
  },
  {
   "cell_type": "code",
   "execution_count": 33,
   "metadata": {},
   "outputs": [],
   "source": [
    "top_20('New building:')\n",
    "top_20('Management company:')\n",
    "top_20('Series:')\n",
    "top_20('block_user_name')\n",
    "top_20('block_user_agency')\n",
    "top_20('street')\n",
    "top_20('subway')\n",
    "top_20('village')"
   ]
  },
  {
   "cell_type": "markdown",
   "metadata": {},
   "source": [
    "### Encoding object features"
   ]
  },
  {
   "cell_type": "code",
   "execution_count": 34,
   "metadata": {},
   "outputs": [],
   "source": [
    "obj_feats = df.select_dtypes(include=[np.object]).columns\n",
    "\n",
    "for feat in obj_feats:\n",
    "    df[\"{}_cat\".format(feat)] = df[feat].factorize()[0]"
   ]
  },
  {
   "cell_type": "markdown",
   "metadata": {},
   "source": [
    "### Dividing and saving data "
   ]
  },
  {
   "cell_type": "code",
   "execution_count": 35,
   "metadata": {},
   "outputs": [],
   "source": [
    "df_train = df[ ~df[\"price\"].isnull() ].copy()\n",
    "df_test = df[ df[\"price\"].isnull() ].copy()\n",
    "df_train = df_train.reset_index(drop=True)\n",
    "df_test = df_test.reset_index(drop=True)"
   ]
  },
  {
   "cell_type": "code",
   "execution_count": 36,
   "metadata": {},
   "outputs": [],
   "source": [
    "df_train.to_csv(\"../output/post_fe_train_data.csv\", index=False)\n",
    "df_test.to_csv(\"../output/post_fe_test_data.csv\", index=False)"
   ]
  },
  {
   "cell_type": "code",
   "execution_count": null,
   "metadata": {},
   "outputs": [],
   "source": []
  }
 ],
 "metadata": {
  "kernelspec": {
   "display_name": "Python 3",
   "language": "python",
   "name": "python3"
  },
  "language_info": {
   "codemirror_mode": {
    "name": "ipython",
    "version": 3
   },
   "file_extension": ".py",
   "mimetype": "text/x-python",
   "name": "python",
   "nbconvert_exporter": "python",
   "pygments_lexer": "ipython3",
   "version": "3.8.5"
  }
 },
 "nbformat": 4,
 "nbformat_minor": 4
}
